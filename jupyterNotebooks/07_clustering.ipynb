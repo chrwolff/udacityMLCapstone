{
 "cells": [
  {
   "cell_type": "code",
   "execution_count": 1,
   "metadata": {
    "collapsed": true
   },
   "outputs": [],
   "source": [
    "import pandas as pd\n",
    "import numpy as np\n",
    "import math\n",
    "import json\n",
    "from sklearn.mixture import GaussianMixture\n",
    "from sklearn.externals import joblib\n",
    "%matplotlib inline\n",
    "import matplotlib.pyplot as plt\n",
    "plt.rcParams['figure.figsize'] = [20, 10]"
   ]
  },
  {
   "cell_type": "code",
   "execution_count": 2,
   "metadata": {},
   "outputs": [
    {
     "data": {
      "text/plain": [
       "Index(['station_name', 'latitude', 'longitude', 'first_used', 'last_used'], dtype='object')"
      ]
     },
     "execution_count": 2,
     "metadata": {},
     "output_type": "execute_result"
    }
   ],
   "source": [
    "stations = pd.read_csv('../data/modelInput/stations.csv')\n",
    "stations = stations.set_index('station_id')\n",
    "stations.columns"
   ]
  },
  {
   "cell_type": "code",
   "execution_count": 3,
   "metadata": {},
   "outputs": [
    {
     "data": {
      "text/plain": [
       "['../models/gaussianMixtureModel.pkl']"
      ]
     },
     "execution_count": 3,
     "metadata": {},
     "output_type": "execute_result"
    }
   ],
   "source": [
    "#fit a Gaussian mixture model to the coordinates of all stations\n",
    "cluster_number = 50\n",
    "coords = stations[['latitude', 'longitude']].values\n",
    "cluster_model = GaussianMixture(n_components=cluster_number)\n",
    "cluster_model.fit(coords)\n",
    "joblib.dump(cluster_model, '../models/gaussianMixtureModel.pkl') "
   ]
  },
  {
   "cell_type": "code",
   "execution_count": 4,
   "metadata": {},
   "outputs": [
    {
     "data": {
      "image/png": "[encoded data removed]",
      "text/plain": [
       "<matplotlib.figure.Figure at 0x1b9fa75a588>"
      ]
     },
     "metadata": {},
     "output_type": "display_data"
    }
   ],
   "source": [
    "#plot stations and cluster centers \n",
    "plt.plot(cluster_model.means_[:, 0], cluster_model.means_[:, 1], '.', alpha = 1, markersize = 6)\n",
    "plt.plot(coords[:, 0], coords[:, 1], '.', alpha = 1, markersize = 4)\n",
    "plt.show()"
   ]
  },
  {
   "cell_type": "code",
   "execution_count": 5,
   "metadata": {},
   "outputs": [
    {
     "data": {
      "text/plain": [
       "Index(['date_hour', 'station_id', 'arrivals', 'departures', 'flow'], dtype='object')"
      ]
     },
     "execution_count": 5,
     "metadata": {},
     "output_type": "execute_result"
    }
   ],
   "source": [
    "trips = pd.read_csv('../data/modelInput/flowPerHourAndStation.csv')\n",
    "trips.columns"
   ]
  },
  {
   "cell_type": "code",
   "execution_count": 6,
   "metadata": {
    "collapsed": true
   },
   "outputs": [],
   "source": [
    "#for each station, get its weight for each cluster \n",
    "weight_threshold = 1e-3\n",
    "clustered_trips = pd.DataFrame([], columns=['date_hour', 'cluster_id', 'arrivals', 'departures'])\n",
    "\n",
    "station_cluster_map = {}\n",
    "for cluster_index in range(0, cluster_number):\n",
    "    station_cluster_map[str(cluster_index)] = {}\n",
    "\n",
    "station_iterator = stations.iterrows()\n",
    "for row in station_iterator:\n",
    "    station_id = row[0]\n",
    "    station_weights = cluster_model.predict_proba(row[1][['latitude', 'longitude']].values.reshape(1, -1))[0]\n",
    "    for cluster_index in range(0, cluster_number):\n",
    "        weight = station_weights[cluster_index] \n",
    "        if(weight > weight_threshold):\n",
    "            weighted_trips = trips[trips['station_id'] == station_id][['date_hour', 'arrivals', 'departures']]\n",
    "            weighted_trips['arrivals'] = weighted_trips['arrivals'] * weight\n",
    "            weighted_trips['departures'] = weighted_trips['departures'] * weight\n",
    "            weighted_trips['cluster_id'] = cluster_index\n",
    "            clustered_trips = clustered_trips.append(weighted_trips)\n",
    "            station_cluster_map[str(cluster_index)][str(station_id)] = weight\n",
    "            \n",
    "clustered_trips = clustered_trips.groupby(['date_hour', 'cluster_id']).sum()\n",
    "clustered_trips.to_csv('../data/modelInput/flowPerHourAndCluster.csv')\n",
    "\n",
    "with open('../models/stationClusterMap.json', 'w') as f:\n",
    "     json.dump(station_cluster_map, f)"
   ]
  }
 ],
 "metadata": {
  "kernelspec": {
   "display_name": "Python 3",
   "language": "python",
   "name": "python3"
  },
  "language_info": {
   "codemirror_mode": {
    "name": "ipython",
    "version": 3
   },
   "file_extension": ".py",
   "mimetype": "text/x-python",
   "name": "python",
   "nbconvert_exporter": "python",
   "pygments_lexer": "ipython3",
   "version": "3.6.1"
  }
 },
 "nbformat": 4,
 "nbformat_minor": 2
}
