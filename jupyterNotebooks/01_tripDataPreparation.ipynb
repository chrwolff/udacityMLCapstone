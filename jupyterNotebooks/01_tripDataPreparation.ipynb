{
 "cells": [
  {
   "cell_type": "code",
   "execution_count": 1,
   "metadata": {
    "collapsed": true
   },
   "outputs": [],
   "source": [
    "import pandas as pd\n",
    "import numpy as np\n",
    "import math"
   ]
  },
  {
   "cell_type": "code",
   "execution_count": 2,
   "metadata": {},
   "outputs": [
    {
     "name": "stdout",
     "output_type": "stream",
     "text": [
      "(2313770, 15)\n"
     ]
    }
   ],
   "source": [
    "trips = pd.read_csv('../data/raw/201501-hubway-tripdata.csv')\n",
    "trips = trips.append(pd.read_csv('../data/raw/201502-hubway-tripdata.csv'))\n",
    "trips = trips.append(pd.read_csv('../data/raw/201503-hubway-tripdata.csv'))\n",
    "trips = trips.append(pd.read_csv('../data/raw/201504-hubway-tripdata.csv'))\n",
    "trips = trips.append(pd.read_csv('../data/raw/201505-hubway-tripdata.csv'))\n",
    "trips = trips.append(pd.read_csv('../data/raw/201506-hubway-tripdata.csv'))\n",
    "trips = trips.append(pd.read_csv('../data/raw/201507-hubway-tripdata.csv'))\n",
    "trips = trips.append(pd.read_csv('../data/raw/201508-hubway-tripdata.csv'))\n",
    "trips = trips.append(pd.read_csv('../data/raw/201509-hubway-tripdata.csv'))\n",
    "trips = trips.append(pd.read_csv('../data/raw/201510-hubway-tripdata.csv'))\n",
    "trips = trips.append(pd.read_csv('../data/raw/201511-hubway-tripdata.csv'))\n",
    "trips = trips.append(pd.read_csv('../data/raw/201512-hubway-tripdata.csv'))\n",
    "trips = trips.append(pd.read_csv('../data/raw/201601-hubway-tripdata.csv'))\n",
    "trips = trips.append(pd.read_csv('../data/raw/201602-hubway-tripdata.csv'))\n",
    "trips = trips.append(pd.read_csv('../data/raw/201603-hubway-tripdata.csv'))\n",
    "trips = trips.append(pd.read_csv('../data/raw/201604-hubway-tripdata.csv'))\n",
    "trips = trips.append(pd.read_csv('../data/raw/201605-hubway-tripdata.csv'))\n",
    "trips = trips.append(pd.read_csv('../data/raw/201606-hubway-tripdata.csv'))\n",
    "trips = trips.append(pd.read_csv('../data/raw/201607-hubway-tripdata.csv'))\n",
    "trips = trips.append(pd.read_csv('../data/raw/201608-hubway-tripdata.csv'))\n",
    "trips = trips.append(pd.read_csv('../data/raw/201609-hubway-tripdata.csv'))\n",
    "trips = trips.append(pd.read_csv('../data/raw/201610-hubway-tripdata.csv'))\n",
    "trips = trips.append(pd.read_csv('../data/raw/201611-hubway-tripdata.csv'))\n",
    "print(trips.shape)"
   ]
  },
  {
   "cell_type": "code",
   "execution_count": 3,
   "metadata": {},
   "outputs": [
    {
     "data": {
      "text/plain": [
       "Index(['tripduration', 'starttime', 'stoptime', 'start station id',\n",
       "       'start station name', 'start station latitude',\n",
       "       'start station longitude', 'end station id', 'end station name',\n",
       "       'end station latitude', 'end station longitude', 'bikeid', 'usertype',\n",
       "       'birth year', 'gender'],\n",
       "      dtype='object')"
      ]
     },
     "execution_count": 3,
     "metadata": {},
     "output_type": "execute_result"
    }
   ],
   "source": [
    "trips.columns"
   ]
  },
  {
   "cell_type": "code",
   "execution_count": 4,
   "metadata": {
    "collapsed": true
   },
   "outputs": [],
   "source": [
    "#drop unwanted features and rename station features\n",
    "trips = trips.drop(['tripduration', 'bikeid', 'usertype', 'birth year', 'gender'], axis=1)\n",
    "trips = trips.rename(columns={'start station id': 'start_station_id', \n",
    "                              'start station name': 'start_station_name',\n",
    "                              'start station latitude': 'start_station_latitude',\n",
    "                              'start station longitude': 'start_station_longitude',\n",
    "                              'end station id': 'end_station_id', \n",
    "                              'end station name': 'end_station_name',\n",
    "                              'end station latitude': 'end_station_latitude',\n",
    "                              'end station longitude': 'end_station_longitude'})"
   ]
  },
  {
   "cell_type": "code",
   "execution_count": 5,
   "metadata": {},
   "outputs": [
    {
     "data": {
      "text/plain": [
       "starttime                   object\n",
       "stoptime                    object\n",
       "start_station_id             int64\n",
       "start_station_name          object\n",
       "start_station_latitude     float64\n",
       "start_station_longitude    float64\n",
       "end_station_id              object\n",
       "end_station_name            object\n",
       "end_station_latitude        object\n",
       "end_station_longitude       object\n",
       "dtype: object"
      ]
     },
     "execution_count": 5,
     "metadata": {},
     "output_type": "execute_result"
    }
   ],
   "source": [
    "trips.dtypes"
   ]
  },
  {
   "cell_type": "code",
   "execution_count": 6,
   "metadata": {},
   "outputs": [
    {
     "name": "stdout",
     "output_type": "stream",
     "text": [
      "Number of trips with unknown end station ID: 1\n"
     ]
    }
   ],
   "source": [
    "#coerce all end station ids to numbers. if not possible, then set NaN\n",
    "trips['end_station_id'] = pd.to_numeric(trips['end_station_id'], errors='coerce')\n",
    "print('Number of trips with unknown end station ID:', trips[pd.isnull(trips['end_station_id'])].shape[0])\n",
    "trips = trips[pd.notnull(trips['end_station_id'])]\n",
    "trips = trips.astype({'start_station_id': int, 'end_station_id': int})"
   ]
  },
  {
   "cell_type": "code",
   "execution_count": 7,
   "metadata": {},
   "outputs": [
    {
     "name": "stdout",
     "output_type": "stream",
     "text": [
      "Number of trips with station ID = 1: 486\n"
     ]
    }
   ],
   "source": [
    "#station ID 1 is Hubway's warehouse and can be removed\n",
    "warehouse_trips = (trips['start_station_id'] == 1) | (trips['end_station_id'] == 1)\n",
    "print('Number of trips with station ID = 1:', trips[warehouse_trips].shape[0])\n",
    "trips = trips[warehouse_trips == False]"
   ]
  },
  {
   "cell_type": "code",
   "execution_count": 8,
   "metadata": {},
   "outputs": [
    {
     "name": "stdout",
     "output_type": "stream",
     "text": [
      "Number of trips with unknown end station latitude: 0\n",
      "Number of trips with unknown end station longitude: 0\n"
     ]
    }
   ],
   "source": [
    "trips['end_station_latitude'] = pd.to_numeric(trips['end_station_latitude'], errors='coerce')\n",
    "print('Number of trips with unknown end station latitude:', trips[pd.isnull(trips['end_station_latitude'])].shape[0])\n",
    "trips['end_station_longitude'] = pd.to_numeric(trips['end_station_longitude'], errors='coerce')\n",
    "print('Number of trips with unknown end station longitude:', trips[pd.isnull(trips['end_station_longitude'])].shape[0])"
   ]
  },
  {
   "cell_type": "code",
   "execution_count": 9,
   "metadata": {},
   "outputs": [
    {
     "data": {
      "text/plain": [
       "starttime                  datetime64[ns]\n",
       "stoptime                   datetime64[ns]\n",
       "start_station_id                    int32\n",
       "start_station_name                 object\n",
       "start_station_latitude            float64\n",
       "start_station_longitude           float64\n",
       "end_station_id                      int32\n",
       "end_station_name                   object\n",
       "end_station_latitude              float64\n",
       "end_station_longitude             float64\n",
       "dtype: object"
      ]
     },
     "execution_count": 9,
     "metadata": {},
     "output_type": "execute_result"
    }
   ],
   "source": [
    "trips['starttime'] = trips['starttime'].apply(pd.Timestamp)\n",
    "trips['stoptime'] = trips['stoptime'].apply(pd.Timestamp)\n",
    "trips.dtypes"
   ]
  },
  {
   "cell_type": "code",
   "execution_count": 10,
   "metadata": {},
   "outputs": [
    {
     "name": "stdout",
     "output_type": "stream",
     "text": [
      "Number of trips with station locations outside of Boston:  3\n"
     ]
    }
   ],
   "source": [
    "#remove trips from or to \"virtual\" locations outside Boston\n",
    "BOSTON_LATITUDE = 42.355428\n",
    "BOSTON_LONGITUDE = -71.069786\n",
    "out_of_bounds = ((trips['start_station_latitude'] > (BOSTON_LATITUDE + 1)) | \n",
    "                 (trips['start_station_latitude'] < (BOSTON_LATITUDE - 1)) | \n",
    "                 (trips['end_station_latitude'] > (BOSTON_LATITUDE + 1)) | \n",
    "                 (trips['end_station_latitude'] < (BOSTON_LATITUDE - 1)) |\n",
    "                 (trips['start_station_longitude'] > (BOSTON_LONGITUDE + 1)) | \n",
    "                 (trips['start_station_longitude'] < (BOSTON_LONGITUDE - 1)) | \n",
    "                 (trips['end_station_longitude'] > (BOSTON_LONGITUDE + 1)) | \n",
    "                 (trips['end_station_longitude'] < (BOSTON_LONGITUDE - 1)))\n",
    "print(\"Number of trips with station locations outside of Boston: \", trips[out_of_bounds].shape[0])\n",
    "trips = trips[out_of_bounds == False]"
   ]
  },
  {
   "cell_type": "code",
   "execution_count": 11,
   "metadata": {},
   "outputs": [
    {
     "name": "stdout",
     "output_type": "stream",
     "text": [
      "Number of trips ending in December 2016:  9\n"
     ]
    }
   ],
   "source": [
    "#remove trips that end in December 2016\n",
    "print(\"Number of trips ending in December 2016: \", trips[trips['stoptime'] >= pd.Timestamp(2016, 12, 1, 0, 0, 0)].shape[0])\n",
    "trips = trips[trips['stoptime'] < pd.Timestamp(2016, 12, 1, 0, 0, 0)]"
   ]
  },
  {
   "cell_type": "code",
   "execution_count": 12,
   "metadata": {},
   "outputs": [
    {
     "data": {
      "text/html": [
       "<div>\n",
       "<style>\n",
       "    .dataframe thead tr:only-child th {\n",
       "        text-align: right;\n",
       "    }\n",
       "\n",
       "    .dataframe thead th {\n",
       "        text-align: left;\n",
       "    }\n",
       "\n",
       "    .dataframe tbody tr th {\n",
       "        vertical-align: top;\n",
       "    }\n",
       "</style>\n",
       "<table border=\"1\" class=\"dataframe\">\n",
       "  <thead>\n",
       "    <tr style=\"text-align: right;\">\n",
       "      <th></th>\n",
       "      <th>starttime</th>\n",
       "      <th>stoptime</th>\n",
       "      <th>start_station_id</th>\n",
       "      <th>start_station_name</th>\n",
       "      <th>start_station_latitude</th>\n",
       "      <th>start_station_longitude</th>\n",
       "      <th>end_station_id</th>\n",
       "      <th>end_station_name</th>\n",
       "      <th>end_station_latitude</th>\n",
       "      <th>end_station_longitude</th>\n",
       "    </tr>\n",
       "  </thead>\n",
       "  <tbody>\n",
       "    <tr>\n",
       "      <th>0</th>\n",
       "      <td>2015-01-01 00:21:44</td>\n",
       "      <td>2015-01-01 00:30:47</td>\n",
       "      <td>115</td>\n",
       "      <td>Porter Square Station</td>\n",
       "      <td>42.387995</td>\n",
       "      <td>-71.119084</td>\n",
       "      <td>96</td>\n",
       "      <td>Cambridge Main Library at Broadway / Trowbridg...</td>\n",
       "      <td>42.373379</td>\n",
       "      <td>-71.111075</td>\n",
       "    </tr>\n",
       "    <tr>\n",
       "      <th>1</th>\n",
       "      <td>2015-01-01 00:27:03</td>\n",
       "      <td>2015-01-01 00:34:21</td>\n",
       "      <td>80</td>\n",
       "      <td>MIT Stata Center at Vassar St / Main St</td>\n",
       "      <td>42.361962</td>\n",
       "      <td>-71.092053</td>\n",
       "      <td>95</td>\n",
       "      <td>Cambridge St - at Columbia St / Webster Ave</td>\n",
       "      <td>42.372969</td>\n",
       "      <td>-71.094445</td>\n",
       "    </tr>\n",
       "    <tr>\n",
       "      <th>2</th>\n",
       "      <td>2015-01-01 00:31:31</td>\n",
       "      <td>2015-01-01 00:35:46</td>\n",
       "      <td>91</td>\n",
       "      <td>One Kendall Square at Hampshire St / Portland St</td>\n",
       "      <td>42.366277</td>\n",
       "      <td>-71.091690</td>\n",
       "      <td>68</td>\n",
       "      <td>Central Square at Mass Ave / Essex St</td>\n",
       "      <td>42.365070</td>\n",
       "      <td>-71.103100</td>\n",
       "    </tr>\n",
       "    <tr>\n",
       "      <th>3</th>\n",
       "      <td>2015-01-01 00:53:46</td>\n",
       "      <td>2015-01-01 01:00:58</td>\n",
       "      <td>115</td>\n",
       "      <td>Porter Square Station</td>\n",
       "      <td>42.387995</td>\n",
       "      <td>-71.119084</td>\n",
       "      <td>96</td>\n",
       "      <td>Cambridge Main Library at Broadway / Trowbridg...</td>\n",
       "      <td>42.373379</td>\n",
       "      <td>-71.111075</td>\n",
       "    </tr>\n",
       "    <tr>\n",
       "      <th>4</th>\n",
       "      <td>2015-01-01 01:07:06</td>\n",
       "      <td>2015-01-01 01:19:21</td>\n",
       "      <td>105</td>\n",
       "      <td>Lower Cambridgeport at Magazine St/Riverside Rd</td>\n",
       "      <td>42.356954</td>\n",
       "      <td>-71.113687</td>\n",
       "      <td>88</td>\n",
       "      <td>Inman Square at Vellucci Plaza / Hampshire St</td>\n",
       "      <td>42.374035</td>\n",
       "      <td>-71.101427</td>\n",
       "    </tr>\n",
       "  </tbody>\n",
       "</table>\n",
       "</div>"
      ],
      "text/plain": [
       "            starttime            stoptime  start_station_id  \\\n",
       "0 2015-01-01 00:21:44 2015-01-01 00:30:47               115   \n",
       "1 2015-01-01 00:27:03 2015-01-01 00:34:21                80   \n",
       "2 2015-01-01 00:31:31 2015-01-01 00:35:46                91   \n",
       "3 2015-01-01 00:53:46 2015-01-01 01:00:58               115   \n",
       "4 2015-01-01 01:07:06 2015-01-01 01:19:21               105   \n",
       "\n",
       "                                 start_station_name  start_station_latitude  \\\n",
       "0                             Porter Square Station               42.387995   \n",
       "1           MIT Stata Center at Vassar St / Main St               42.361962   \n",
       "2  One Kendall Square at Hampshire St / Portland St               42.366277   \n",
       "3                             Porter Square Station               42.387995   \n",
       "4   Lower Cambridgeport at Magazine St/Riverside Rd               42.356954   \n",
       "\n",
       "   start_station_longitude  end_station_id  \\\n",
       "0               -71.119084              96   \n",
       "1               -71.092053              95   \n",
       "2               -71.091690              68   \n",
       "3               -71.119084              96   \n",
       "4               -71.113687              88   \n",
       "\n",
       "                                    end_station_name  end_station_latitude  \\\n",
       "0  Cambridge Main Library at Broadway / Trowbridg...             42.373379   \n",
       "1        Cambridge St - at Columbia St / Webster Ave             42.372969   \n",
       "2              Central Square at Mass Ave / Essex St             42.365070   \n",
       "3  Cambridge Main Library at Broadway / Trowbridg...             42.373379   \n",
       "4      Inman Square at Vellucci Plaza / Hampshire St             42.374035   \n",
       "\n",
       "   end_station_longitude  \n",
       "0             -71.111075  \n",
       "1             -71.094445  \n",
       "2             -71.103100  \n",
       "3             -71.111075  \n",
       "4             -71.101427  "
      ]
     },
     "execution_count": 12,
     "metadata": {},
     "output_type": "execute_result"
    }
   ],
   "source": [
    "trips.head()"
   ]
  },
  {
   "cell_type": "code",
   "execution_count": 13,
   "metadata": {},
   "outputs": [
    {
     "name": "stdout",
     "output_type": "stream",
     "text": [
      "Number of trips: 2313271\n"
     ]
    }
   ],
   "source": [
    "print(\"Number of trips:\", trips.shape[0])"
   ]
  },
  {
   "cell_type": "code",
   "execution_count": 14,
   "metadata": {
    "collapsed": true
   },
   "outputs": [],
   "source": [
    "trips = trips.set_index('starttime')\n",
    "trips.to_csv('../data/raw/201501-201611-hubway-tripdata.csv')"
   ]
  },
  {
   "cell_type": "code",
   "execution_count": null,
   "metadata": {
    "collapsed": true
   },
   "outputs": [],
   "source": []
  }
 ],
 "metadata": {
  "kernelspec": {
   "display_name": "Python 3",
   "language": "python",
   "name": "python3"
  },
  "language_info": {
   "codemirror_mode": {
    "name": "ipython",
    "version": 3
   },
   "file_extension": ".py",
   "mimetype": "text/x-python",
   "name": "python",
   "nbconvert_exporter": "python",
   "pygments_lexer": "ipython3",
   "version": "3.6.1"
  }
 },
 "nbformat": 4,
 "nbformat_minor": 2
}
