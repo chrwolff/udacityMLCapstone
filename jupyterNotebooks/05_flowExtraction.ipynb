{
 "cells": [
  {
   "cell_type": "code",
   "execution_count": 4,
   "metadata": {
    "collapsed": true
   },
   "outputs": [],
   "source": [
    "import pandas as pd\n",
    "import numpy as np\n",
    "import math"
   ]
  },
  {
   "cell_type": "code",
   "execution_count": 5,
   "metadata": {
    "collapsed": true
   },
   "outputs": [],
   "source": [
    "stations = pd.read_csv('../data/modelInput/stations_201505_201611.csv')\n",
    "station_ids = stations['station_id'].unique()"
   ]
  },
  {
   "cell_type": "code",
   "execution_count": 3,
   "metadata": {
    "collapsed": true
   },
   "outputs": [],
   "source": [
    "trips = pd.read_csv('../data/raw/201505-201611-hubway-tripdata.csv')"
   ]
  },
  {
   "cell_type": "code",
   "execution_count": 6,
   "metadata": {},
   "outputs": [
    {
     "data": {
      "text/plain": [
       "Index(['starttime', 'stoptime', 'start_station_id', 'start_station_name',\n",
       "       'start_station_latitude', 'start_station_longitude', 'end_station_id',\n",
       "       'end_station_name', 'end_station_latitude', 'end_station_longitude'],\n",
       "      dtype='object')"
      ]
     },
     "execution_count": 6,
     "metadata": {},
     "output_type": "execute_result"
    }
   ],
   "source": [
    "trips.columns"
   ]
  },
  {
   "cell_type": "code",
   "execution_count": 7,
   "metadata": {
    "collapsed": true
   },
   "outputs": [],
   "source": [
    "#round start/end timestamps of trips to the full hour\n",
    "def set_date_hour(timestamp_string):\n",
    "    timestamp = pd.Timestamp(timestamp_string)\n",
    "    return pd.Timestamp(timestamp.year, timestamp.month, timestamp.day, timestamp.hour)\n",
    "\n",
    "trips['start_date_hour'] = trips['starttime'].apply(set_date_hour)\n",
    "trips['end_date_hour'] = trips['stoptime'].apply(set_date_hour)"
   ]
  },
  {
   "cell_type": "code",
   "execution_count": 8,
   "metadata": {},
   "outputs": [
    {
     "data": {
      "text/html": [
       "<div>\n",
       "<style>\n",
       "    .dataframe thead tr:only-child th {\n",
       "        text-align: right;\n",
       "    }\n",
       "\n",
       "    .dataframe thead th {\n",
       "        text-align: left;\n",
       "    }\n",
       "\n",
       "    .dataframe tbody tr th {\n",
       "        vertical-align: top;\n",
       "    }\n",
       "</style>\n",
       "<table border=\"1\" class=\"dataframe\">\n",
       "  <thead>\n",
       "    <tr style=\"text-align: right;\">\n",
       "      <th></th>\n",
       "      <th>date_hour</th>\n",
       "      <th>station_id</th>\n",
       "      <th>arrivals</th>\n",
       "      <th>departures</th>\n",
       "    </tr>\n",
       "  </thead>\n",
       "  <tbody>\n",
       "    <tr>\n",
       "      <th>0</th>\n",
       "      <td>2015-05-01</td>\n",
       "      <td>115</td>\n",
       "      <td>0</td>\n",
       "      <td>1</td>\n",
       "    </tr>\n",
       "    <tr>\n",
       "      <th>1</th>\n",
       "      <td>2015-05-01</td>\n",
       "      <td>74</td>\n",
       "      <td>0</td>\n",
       "      <td>1</td>\n",
       "    </tr>\n",
       "    <tr>\n",
       "      <th>2</th>\n",
       "      <td>2015-05-01</td>\n",
       "      <td>74</td>\n",
       "      <td>0</td>\n",
       "      <td>1</td>\n",
       "    </tr>\n",
       "    <tr>\n",
       "      <th>3</th>\n",
       "      <td>2015-05-01</td>\n",
       "      <td>36</td>\n",
       "      <td>0</td>\n",
       "      <td>1</td>\n",
       "    </tr>\n",
       "    <tr>\n",
       "      <th>4</th>\n",
       "      <td>2015-05-01</td>\n",
       "      <td>9</td>\n",
       "      <td>0</td>\n",
       "      <td>1</td>\n",
       "    </tr>\n",
       "  </tbody>\n",
       "</table>\n",
       "</div>"
      ],
      "text/plain": [
       "   date_hour  station_id  arrivals  departures\n",
       "0 2015-05-01         115         0           1\n",
       "1 2015-05-01          74         0           1\n",
       "2 2015-05-01          74         0           1\n",
       "3 2015-05-01          36         0           1\n",
       "4 2015-05-01           9         0           1"
      ]
     },
     "execution_count": 8,
     "metadata": {},
     "output_type": "execute_result"
    }
   ],
   "source": [
    "#split trips into start and end data\n",
    "#add new features, counting arrivals and departures \n",
    "\n",
    "start_trips = trips[['start_date_hour', 'start_station_id']]\n",
    "start_trips = start_trips.rename(columns={'start_date_hour': 'date_hour', 'start_station_id': 'station_id'})\n",
    "start_trips = start_trips[start_trips['station_id'].isin(station_ids)]\n",
    "start_trips['arrivals'] = 0\n",
    "start_trips['departures'] = 1\n",
    "start_trips.head()"
   ]
  },
  {
   "cell_type": "code",
   "execution_count": 9,
   "metadata": {},
   "outputs": [
    {
     "data": {
      "text/html": [
       "<div>\n",
       "<style>\n",
       "    .dataframe thead tr:only-child th {\n",
       "        text-align: right;\n",
       "    }\n",
       "\n",
       "    .dataframe thead th {\n",
       "        text-align: left;\n",
       "    }\n",
       "\n",
       "    .dataframe tbody tr th {\n",
       "        vertical-align: top;\n",
       "    }\n",
       "</style>\n",
       "<table border=\"1\" class=\"dataframe\">\n",
       "  <thead>\n",
       "    <tr style=\"text-align: right;\">\n",
       "      <th></th>\n",
       "      <th>date_hour</th>\n",
       "      <th>station_id</th>\n",
       "      <th>arrivals</th>\n",
       "      <th>departures</th>\n",
       "    </tr>\n",
       "  </thead>\n",
       "  <tbody>\n",
       "    <tr>\n",
       "      <th>0</th>\n",
       "      <td>2015-05-01 00:00:00</td>\n",
       "      <td>74</td>\n",
       "      <td>1</td>\n",
       "      <td>0</td>\n",
       "    </tr>\n",
       "    <tr>\n",
       "      <th>1</th>\n",
       "      <td>2015-05-01 00:00:00</td>\n",
       "      <td>104</td>\n",
       "      <td>1</td>\n",
       "      <td>0</td>\n",
       "    </tr>\n",
       "    <tr>\n",
       "      <th>2</th>\n",
       "      <td>2015-05-01 00:00:00</td>\n",
       "      <td>75</td>\n",
       "      <td>1</td>\n",
       "      <td>0</td>\n",
       "    </tr>\n",
       "    <tr>\n",
       "      <th>3</th>\n",
       "      <td>2015-05-01 00:00:00</td>\n",
       "      <td>45</td>\n",
       "      <td>1</td>\n",
       "      <td>0</td>\n",
       "    </tr>\n",
       "    <tr>\n",
       "      <th>4</th>\n",
       "      <td>2015-05-01 02:00:00</td>\n",
       "      <td>10</td>\n",
       "      <td>1</td>\n",
       "      <td>0</td>\n",
       "    </tr>\n",
       "  </tbody>\n",
       "</table>\n",
       "</div>"
      ],
      "text/plain": [
       "            date_hour  station_id  arrivals  departures\n",
       "0 2015-05-01 00:00:00          74         1           0\n",
       "1 2015-05-01 00:00:00         104         1           0\n",
       "2 2015-05-01 00:00:00          75         1           0\n",
       "3 2015-05-01 00:00:00          45         1           0\n",
       "4 2015-05-01 02:00:00          10         1           0"
      ]
     },
     "execution_count": 9,
     "metadata": {},
     "output_type": "execute_result"
    }
   ],
   "source": [
    "end_trips = trips[['end_date_hour', 'end_station_id']]\n",
    "end_trips = end_trips.rename(columns={'end_date_hour': 'date_hour', 'end_station_id': 'station_id'})\n",
    "end_trips = end_trips[end_trips['station_id'].isin(station_ids)]\n",
    "end_trips['arrivals'] = 1\n",
    "end_trips['departures'] = 0\n",
    "end_trips.head()"
   ]
  },
  {
   "cell_type": "code",
   "execution_count": 10,
   "metadata": {
    "collapsed": true
   },
   "outputs": [],
   "source": [
    "#merge both sets into one\n",
    "trips = start_trips.append(end_trips)"
   ]
  },
  {
   "cell_type": "code",
   "execution_count": 11,
   "metadata": {},
   "outputs": [
    {
     "data": {
      "text/html": [
       "<div>\n",
       "<style>\n",
       "    .dataframe thead tr:only-child th {\n",
       "        text-align: right;\n",
       "    }\n",
       "\n",
       "    .dataframe thead th {\n",
       "        text-align: left;\n",
       "    }\n",
       "\n",
       "    .dataframe tbody tr th {\n",
       "        vertical-align: top;\n",
       "    }\n",
       "</style>\n",
       "<table border=\"1\" class=\"dataframe\">\n",
       "  <thead>\n",
       "    <tr style=\"text-align: right;\">\n",
       "      <th></th>\n",
       "      <th>date_hour</th>\n",
       "      <th>station_id</th>\n",
       "      <th>arrivals</th>\n",
       "      <th>departures</th>\n",
       "    </tr>\n",
       "  </thead>\n",
       "  <tbody>\n",
       "    <tr>\n",
       "      <th>0</th>\n",
       "      <td>2015-05-01</td>\n",
       "      <td>3</td>\n",
       "      <td>0</td>\n",
       "      <td>0</td>\n",
       "    </tr>\n",
       "    <tr>\n",
       "      <th>1</th>\n",
       "      <td>2015-05-01</td>\n",
       "      <td>4</td>\n",
       "      <td>0</td>\n",
       "      <td>0</td>\n",
       "    </tr>\n",
       "    <tr>\n",
       "      <th>2</th>\n",
       "      <td>2015-05-01</td>\n",
       "      <td>5</td>\n",
       "      <td>0</td>\n",
       "      <td>0</td>\n",
       "    </tr>\n",
       "    <tr>\n",
       "      <th>3</th>\n",
       "      <td>2015-05-01</td>\n",
       "      <td>6</td>\n",
       "      <td>0</td>\n",
       "      <td>0</td>\n",
       "    </tr>\n",
       "    <tr>\n",
       "      <th>4</th>\n",
       "      <td>2015-05-01</td>\n",
       "      <td>7</td>\n",
       "      <td>0</td>\n",
       "      <td>0</td>\n",
       "    </tr>\n",
       "  </tbody>\n",
       "</table>\n",
       "</div>"
      ],
      "text/plain": [
       "   date_hour  station_id  arrivals  departures\n",
       "0 2015-05-01           3         0           0\n",
       "1 2015-05-01           4         0           0\n",
       "2 2015-05-01           5         0           0\n",
       "3 2015-05-01           6         0           0\n",
       "4 2015-05-01           7         0           0"
      ]
     },
     "execution_count": 11,
     "metadata": {},
     "output_type": "execute_result"
    }
   ],
   "source": [
    "#fill all missing hours in the trip data with dummy entries\n",
    "\n",
    "#get all unique sations, date/hour combinations and create a multi-index from the cross-product\n",
    "date_hours = pd.date_range(pd.Timestamp('2015-05-01 00:00:00'), pd.Timestamp('2016-11-30 23:00:00'), freq='H')\n",
    "date_hours_station_index = pd.MultiIndex.from_product([date_hours, station_ids], names=['date_hour', 'station_id'])\n",
    "\n",
    "#fill arrivals and departues with zeros\n",
    "hour_dummies = pd.DataFrame({'arrivals': 0, 'departures': 0}, index=date_hours_station_index)\n",
    "hour_dummies = hour_dummies.reset_index()\n",
    "hour_dummies.head()"
   ]
  },
  {
   "cell_type": "code",
   "execution_count": 12,
   "metadata": {},
   "outputs": [
    {
     "data": {
      "text/html": [
       "<div>\n",
       "<style>\n",
       "    .dataframe thead tr:only-child th {\n",
       "        text-align: right;\n",
       "    }\n",
       "\n",
       "    .dataframe thead th {\n",
       "        text-align: left;\n",
       "    }\n",
       "\n",
       "    .dataframe tbody tr th {\n",
       "        vertical-align: top;\n",
       "    }\n",
       "</style>\n",
       "<table border=\"1\" class=\"dataframe\">\n",
       "  <thead>\n",
       "    <tr style=\"text-align: right;\">\n",
       "      <th></th>\n",
       "      <th>station_id</th>\n",
       "      <th>arrivals</th>\n",
       "      <th>departures</th>\n",
       "      <th>flow</th>\n",
       "    </tr>\n",
       "    <tr>\n",
       "      <th>date_hour</th>\n",
       "      <th></th>\n",
       "      <th></th>\n",
       "      <th></th>\n",
       "      <th></th>\n",
       "    </tr>\n",
       "  </thead>\n",
       "  <tbody>\n",
       "    <tr>\n",
       "      <th>2015-05-01 00:00:00-05:00</th>\n",
       "      <td>3</td>\n",
       "      <td>0</td>\n",
       "      <td>0</td>\n",
       "      <td>0</td>\n",
       "    </tr>\n",
       "    <tr>\n",
       "      <th>2015-05-01 00:00:00-05:00</th>\n",
       "      <td>4</td>\n",
       "      <td>0</td>\n",
       "      <td>0</td>\n",
       "      <td>0</td>\n",
       "    </tr>\n",
       "    <tr>\n",
       "      <th>2015-05-01 00:00:00-05:00</th>\n",
       "      <td>5</td>\n",
       "      <td>0</td>\n",
       "      <td>0</td>\n",
       "      <td>0</td>\n",
       "    </tr>\n",
       "    <tr>\n",
       "      <th>2015-05-01 00:00:00-05:00</th>\n",
       "      <td>6</td>\n",
       "      <td>0</td>\n",
       "      <td>0</td>\n",
       "      <td>0</td>\n",
       "    </tr>\n",
       "    <tr>\n",
       "      <th>2015-05-01 00:00:00-05:00</th>\n",
       "      <td>7</td>\n",
       "      <td>0</td>\n",
       "      <td>0</td>\n",
       "      <td>0</td>\n",
       "    </tr>\n",
       "  </tbody>\n",
       "</table>\n",
       "</div>"
      ],
      "text/plain": [
       "                           station_id  arrivals  departures  flow\n",
       "date_hour                                                        \n",
       "2015-05-01 00:00:00-05:00           3         0           0     0\n",
       "2015-05-01 00:00:00-05:00           4         0           0     0\n",
       "2015-05-01 00:00:00-05:00           5         0           0     0\n",
       "2015-05-01 00:00:00-05:00           6         0           0     0\n",
       "2015-05-01 00:00:00-05:00           7         0           0     0"
      ]
     },
     "execution_count": 12,
     "metadata": {},
     "output_type": "execute_result"
    }
   ],
   "source": [
    "#append dummy values\n",
    "trips = trips.append(hour_dummies)\n",
    "\n",
    "#aggregate by hour and station id\n",
    "trips = trips.groupby(['date_hour', 'station_id']).sum()\n",
    "\n",
    "#the difference of arrivals and departures is the actual flow at a station\n",
    "trips['flow'] = trips['arrivals'] - trips['departures']\n",
    "\n",
    "#localize date/hour to EST, so that merging with weather data is easy\n",
    "trips = trips.reset_index()\n",
    "trips = trips.set_index('date_hour')\n",
    "trips = trips.tz_localize('EST')\n",
    "trips.head()"
   ]
  },
  {
   "cell_type": "code",
   "execution_count": 13,
   "metadata": {
    "collapsed": true
   },
   "outputs": [],
   "source": [
    "trips.to_csv('../data/modelInput/flowPerHourAndStation.csv')"
   ]
  },
  {
   "cell_type": "code",
   "execution_count": null,
   "metadata": {
    "collapsed": true
   },
   "outputs": [],
   "source": []
  }
 ],
 "metadata": {
  "kernelspec": {
   "display_name": "Python 3",
   "language": "python",
   "name": "python3"
  },
  "language_info": {
   "codemirror_mode": {
    "name": "ipython",
    "version": 3
   },
   "file_extension": ".py",
   "mimetype": "text/x-python",
   "name": "python",
   "nbconvert_exporter": "python",
   "pygments_lexer": "ipython3",
   "version": "3.6.1"
  }
 },
 "nbformat": 4,
 "nbformat_minor": 2
}
