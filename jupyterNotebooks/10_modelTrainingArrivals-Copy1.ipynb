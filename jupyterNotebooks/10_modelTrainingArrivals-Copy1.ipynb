{
 "cells": [
  {
   "cell_type": "code",
   "execution_count": 1,
   "metadata": {
    "collapsed": true
   },
   "outputs": [],
   "source": [
    "import pandas as pd\n",
    "import numpy as np\n",
    "import math\n",
    "import xgboost as xgb\n",
    "from xgboost.sklearn import XGBRegressor\n",
    "from sklearn.utils import shuffle\n",
    "from sklearn.model_selection import GridSearchCV \n",
    "from sklearn.model_selection import cross_val_score\n",
    "from sklearn.metrics import mean_squared_error, make_scorer, r2_score\n",
    "from sklearn.externals import joblib\n",
    "%matplotlib inline\n",
    "import matplotlib.pyplot as plt\n",
    "plt.rcParams['figure.figsize'] = [20, 15]"
   ]
  },
  {
   "cell_type": "code",
   "execution_count": 2,
   "metadata": {
    "collapsed": true
   },
   "outputs": [],
   "source": [
    "trips = pd.read_csv('../data/modelInput/flowPerHourAndStation.csv')\n",
    "additional_features = pd.read_csv('../data/modelInput/additionalFeatures.csv')\n",
    "trips = trips.merge(additional_features, how='left', on=('date_hour'))\n",
    "del additional_features\n",
    "trips['date_hour'] = trips['date_hour'].apply(pd.Timestamp) \n",
    "trips = trips.set_index('date_hour')"
   ]
  },
  {
   "cell_type": "code",
   "execution_count": 3,
   "metadata": {},
   "outputs": [
    {
     "data": {
      "text/plain": [
       "Index(['station_id', 'arrivals', 'departures', 'flow', 'apparentTemperature',\n",
       "       'cloudCover', 'dewPoint', 'humidity', 'icon', 'precipAccumulation',\n",
       "       'precipIntensity', 'precipProbability', 'precipType', 'pressure',\n",
       "       'summary', 'temperature', 'uvIndex', 'visibility', 'windBearing',\n",
       "       'windSpeed', 'date', 'hour', 'weekday', 'month', 'year',\n",
       "       'holiday_description', 'is_holiday', 'is_weekend',\n",
       "       'is_weekend_or_holiday'],\n",
       "      dtype='object')"
      ]
     },
     "execution_count": 3,
     "metadata": {},
     "output_type": "execute_result"
    }
   ],
   "source": [
    "trips.columns"
   ]
  },
  {
   "cell_type": "code",
   "execution_count": 5,
   "metadata": {},
   "outputs": [
    {
     "name": "stdout",
     "output_type": "stream",
     "text": [
      "Training set size:  1045415\n",
      "Test set size:  611184\n",
      "Reduced training set size:  100000\n"
     ]
    }
   ],
   "source": [
    "features = ['station_id',\n",
    "            'apparentTemperature', 'cloudCover',\n",
    "            'dewPoint', 'humidity', 'precipIntensity',\n",
    "            'precipProbability', 'pressure', 'temperature',\n",
    "            'uvIndex', 'visibility', 'windBearing', 'windSpeed', 'hour',\n",
    "            'weekday', 'is_holiday', 'is_weekend', 'is_weekend_or_holiday']\n",
    "\n",
    "test_begin_date = pd.Timestamp(2016, 5, 1)\n",
    "\n",
    "X_train = trips[:test_begin_date][features]\n",
    "X_test = trips[test_begin_date:][features]\n",
    "y_train = trips[:test_begin_date]['arrivals']\n",
    "y_test = trips[test_begin_date:]['arrivals']\n",
    "\n",
    "X_train_reduced, y_train_reduced = shuffle(X_train, y_train, n_samples=100000 ,random_state=42)\n",
    "X_train, y_train = shuffle(X_train, y_train, random_state=42)\n",
    "X_test, y_test = shuffle(X_test, y_test, random_state=42)\n",
    "\n",
    "print('Training set size: ', X_train.shape[0])\n",
    "print('Test set size: ', X_test.shape[0])\n",
    "print('Reduced training set size: ', X_train_reduced.shape[0])"
   ]
  },
  {
   "cell_type": "code",
   "execution_count": 6,
   "metadata": {
    "collapsed": true
   },
   "outputs": [],
   "source": [
    "def train_XGBModel(model, X_train, y_train, X_test, y_test, learning_rate=.005):\n",
    "    xgb_param = model.get_xgb_params()\n",
    "    xgb_param['eval_metric'] = 'rmse'\n",
    "    xgb_param['learning_rate'] = learning_rate\n",
    "    dtrain = xgb.DMatrix(X_train, label=y_train)\n",
    "    dvalid = xgb.DMatrix(X_test, label=y_test)\n",
    "    watchlist = [(dtrain, 'train'), (dvalid, 'valid')]\n",
    "    booster = xgb.train(xgb_param,\n",
    "                        dtrain,\n",
    "                        num_boost_round=100000,\n",
    "                        evals=watchlist,\n",
    "                        early_stopping_rounds=100,\n",
    "                        verbose_eval=500)\n",
    "    return booster"
   ]
  },
  {
   "cell_type": "code",
   "execution_count": 7,
   "metadata": {
    "collapsed": true
   },
   "outputs": [],
   "source": [
    "n_jobs=16\n",
    "cv_folds=5\n",
    "\n",
    "mse_scorer = make_scorer(mean_squared_error, greater_is_better=False)\n",
    "\n",
    "def grid_search(model, parameters, X_train, y_train):\n",
    "    gsearch = GridSearchCV(estimator=model, \n",
    "                           param_grid=parameters,\n",
    "                           scoring=mse_scorer,\n",
    "                           cv=cv_folds, \n",
    "                           n_jobs=n_jobs,\n",
    "                           verbose=2)\n",
    "    gsearch.fit(X_train, y_train)\n",
    "    print('Best parameters: ', gsearch.best_params_)\n",
    "    print('Best score: ', gsearch.best_score_)\n",
    "    return gsearch.best_estimator_"
   ]
  },
  {
   "cell_type": "code",
   "execution_count": 9,
   "metadata": {},
   "outputs": [],
   "source": [
    "basic_model = XGBRegressor(\n",
    "    booster='gbtree',\n",
    "    learning_rate=0.1,\n",
    "    gamma=0,\n",
    "    max_depth=3,\n",
    "    min_child_weight=1,\n",
    "    subsample=0.8,\n",
    "    colsample_bytree=0.8, \n",
    "    reg_lambda=1,\n",
    "    reg_alpha=0,\n",
    "    scale_pos_weight=1,\n",
    "    objective='count:poisson',\n",
    "    nthread=16,\n",
    "    seed=42)"
   ]
  },
  {
   "cell_type": "code",
   "execution_count": null,
   "metadata": {},
   "outputs": [
    {
     "name": "stdout",
     "output_type": "stream",
     "text": [
      "[0]\ttrain-rmse:2.23263\tvalid-rmse:2.64551\n",
      "Multiple eval metrics have been passed: 'valid-rmse' will be used for early stopping.\n",
      "\n",
      "Will train until valid-rmse hasn't improved in 100 rounds.\n",
      "[500]\ttrain-rmse:1.90601\tvalid-rmse:2.24737\n",
      "[1000]\ttrain-rmse:1.82741\tvalid-rmse:2.15855\n",
      "[1500]\ttrain-rmse:1.76454\tvalid-rmse:2.08832\n",
      "[2000]\ttrain-rmse:1.72192\tvalid-rmse:2.03945\n",
      "[2500]\ttrain-rmse:1.68794\tvalid-rmse:1.99998\n",
      "[3000]\ttrain-rmse:1.65849\tvalid-rmse:1.96718\n",
      "[3500]\ttrain-rmse:1.63295\tvalid-rmse:1.93894\n",
      "[4000]\ttrain-rmse:1.61001\tvalid-rmse:1.91287\n",
      "[4500]\ttrain-rmse:1.59046\tvalid-rmse:1.89073\n",
      "[5000]\ttrain-rmse:1.57415\tvalid-rmse:1.87305\n",
      "[5500]\ttrain-rmse:1.56171\tvalid-rmse:1.85987\n",
      "[6000]\ttrain-rmse:1.54935\tvalid-rmse:1.847\n",
      "[6500]\ttrain-rmse:1.53916\tvalid-rmse:1.8363\n",
      "[7000]\ttrain-rmse:1.53036\tvalid-rmse:1.82737\n",
      "[7500]\ttrain-rmse:1.52124\tvalid-rmse:1.81794\n",
      "[8000]\ttrain-rmse:1.51326\tvalid-rmse:1.80996\n",
      "[8500]\ttrain-rmse:1.50504\tvalid-rmse:1.80156\n",
      "[9000]\ttrain-rmse:1.49725\tvalid-rmse:1.79366\n",
      "[9500]\ttrain-rmse:1.49063\tvalid-rmse:1.78692\n",
      "[10000]\ttrain-rmse:1.48405\tvalid-rmse:1.78082\n",
      "[10500]\ttrain-rmse:1.47758\tvalid-rmse:1.77453\n",
      "[11000]\ttrain-rmse:1.47193\tvalid-rmse:1.76938\n",
      "[11500]\ttrain-rmse:1.46668\tvalid-rmse:1.76456\n",
      "[12000]\ttrain-rmse:1.46199\tvalid-rmse:1.76042\n",
      "[12500]\ttrain-rmse:1.45782\tvalid-rmse:1.75691\n",
      "[13000]\ttrain-rmse:1.45313\tvalid-rmse:1.75259\n",
      "[13500]\ttrain-rmse:1.44919\tvalid-rmse:1.74949\n",
      "[14000]\ttrain-rmse:1.44582\tvalid-rmse:1.74688\n",
      "[14500]\ttrain-rmse:1.44211\tvalid-rmse:1.74383\n",
      "[15000]\ttrain-rmse:1.43928\tvalid-rmse:1.74181\n",
      "[15500]\ttrain-rmse:1.43592\tvalid-rmse:1.73892\n",
      "[16000]\ttrain-rmse:1.43273\tvalid-rmse:1.73631\n",
      "[16500]\ttrain-rmse:1.42968\tvalid-rmse:1.73412\n",
      "[17000]\ttrain-rmse:1.42732\tvalid-rmse:1.73259\n",
      "[17500]\ttrain-rmse:1.42479\tvalid-rmse:1.73063\n",
      "[18000]\ttrain-rmse:1.42211\tvalid-rmse:1.72854\n",
      "[18500]\ttrain-rmse:1.41984\tvalid-rmse:1.72705\n",
      "[19000]\ttrain-rmse:1.41736\tvalid-rmse:1.72515\n",
      "[19500]\ttrain-rmse:1.41517\tvalid-rmse:1.72362\n",
      "[20000]\ttrain-rmse:1.41327\tvalid-rmse:1.72246\n",
      "[20500]\ttrain-rmse:1.41121\tvalid-rmse:1.72104\n",
      "[21000]\ttrain-rmse:1.40914\tvalid-rmse:1.71958\n",
      "[21500]\ttrain-rmse:1.40708\tvalid-rmse:1.71821\n",
      "[22000]\ttrain-rmse:1.40513\tvalid-rmse:1.71692\n",
      "[22500]\ttrain-rmse:1.4033\tvalid-rmse:1.71573\n",
      "[23000]\ttrain-rmse:1.40136\tvalid-rmse:1.71448\n",
      "[23500]\ttrain-rmse:1.39943\tvalid-rmse:1.71309\n",
      "[24000]\ttrain-rmse:1.39768\tvalid-rmse:1.71189\n",
      "[24500]\ttrain-rmse:1.39616\tvalid-rmse:1.71098\n",
      "[25000]\ttrain-rmse:1.39462\tvalid-rmse:1.71002\n",
      "[25500]\ttrain-rmse:1.3928\tvalid-rmse:1.70877\n"
     ]
    }
   ],
   "source": [
    "basic_xgb = train_XGBModel(basic_model, X_train, y_train, X_test, y_test, .005)"
   ]
  },
  {
   "cell_type": "code",
   "execution_count": 8,
   "metadata": {},
   "outputs": [
    {
     "name": "stdout",
     "output_type": "stream",
     "text": [
      "Results on test set\n",
      "Root mean squared error: 3.575\n",
      "R^2 score: 0.754\n"
     ]
    }
   ],
   "source": [
    "dtest = xgb.DMatrix(X_test)\n",
    "y_predict = basic_xgb.predict(dtest)\n",
    "print('Results on test set')\n",
    "print('Root mean squared error: %2.3f' % math.sqrt(mean_squared_error(y_predict, y_test)))\n",
    "print('R^2 score: %2.3f' % r2_score(y_predict, y_test))"
   ]
  },
  {
   "cell_type": "code",
   "execution_count": 8,
   "metadata": {},
   "outputs": [
    {
     "name": "stdout",
     "output_type": "stream",
     "text": [
      "Fitting 5 folds for each of 20 candidates, totalling 100 fits\n"
     ]
    },
    {
     "name": "stderr",
     "output_type": "stream",
     "text": [
      "[Parallel(n_jobs=16)]: Done   9 tasks      | elapsed:  2.3min\n",
      "[Parallel(n_jobs=16)]: Done 100 out of 100 | elapsed: 30.6min finished\n"
     ]
    },
    {
     "name": "stdout",
     "output_type": "stream",
     "text": [
      "Best parameters:  {'max_depth': 5, 'min_child_weight': 7}\n",
      "Best score:  -23.3841071189\n"
     ]
    }
   ],
   "source": [
    "param_test_1 = {\n",
    " 'max_depth': [3, 5, 7, 9],\n",
    " 'min_child_weight': [1, 4, 7, 10, 13]\n",
    "}\n",
    "\n",
    "basic_model.set_params(n_estimators=500)\n",
    "best_model_1 = grid_search(basic_model, param_test_1, X_train_reduced, y_train_reduced)"
   ]
  },
  {
   "cell_type": "code",
   "execution_count": 9,
   "metadata": {},
   "outputs": [
    {
     "name": "stdout",
     "output_type": "stream",
     "text": [
      "Fitting 5 folds for each of 15 candidates, totalling 75 fits\n"
     ]
    },
    {
     "name": "stderr",
     "output_type": "stream",
     "text": [
      "[Parallel(n_jobs=16)]: Done   9 tasks      | elapsed:  3.1min\n",
      "[Parallel(n_jobs=16)]: Done  75 out of  75 | elapsed: 17.5min finished\n"
     ]
    },
    {
     "name": "stdout",
     "output_type": "stream",
     "text": [
      "Best parameters:  {'max_depth': 6, 'min_child_weight': 9}\n",
      "Best score:  -21.101403498\n"
     ]
    }
   ],
   "source": [
    "param_test_2 = {\n",
    " 'max_depth': [4, 5, 6],\n",
    " 'min_child_weight': [5, 6, 7, 8, 9]\n",
    "}\n",
    "\n",
    "best_model_2 = grid_search(best_model_1, param_test_2, X_train_reduced, y_train_reduced)"
   ]
  },
  {
   "cell_type": "code",
   "execution_count": 10,
   "metadata": {},
   "outputs": [
    {
     "name": "stdout",
     "output_type": "stream",
     "text": [
      "Fitting 5 folds for each of 11 candidates, totalling 55 fits\n"
     ]
    },
    {
     "name": "stderr",
     "output_type": "stream",
     "text": [
      "[Parallel(n_jobs=16)]: Done   9 tasks      | elapsed:  5.4min\n",
      "[Parallel(n_jobs=16)]: Done  52 out of  55 | elapsed: 16.5min remaining:   56.9s\n",
      "[Parallel(n_jobs=16)]: Done  55 out of  55 | elapsed: 16.7min finished\n"
     ]
    },
    {
     "name": "stdout",
     "output_type": "stream",
     "text": [
      "Best parameters:  {'gamma': 0.0}\n",
      "Best score:  -21.101403498\n"
     ]
    }
   ],
   "source": [
    "param_test_3 = {\n",
    " 'gamma': [i/10.0 for i in range(0, 11)]\n",
    "}\n",
    "\n",
    "best_model_3 = grid_search(best_model_2, param_test_3, X_train_reduced, y_train_reduced)"
   ]
  },
  {
   "cell_type": "code",
   "execution_count": 11,
   "metadata": {},
   "outputs": [
    {
     "name": "stdout",
     "output_type": "stream",
     "text": [
      "Fitting 5 folds for each of 16 candidates, totalling 80 fits\n"
     ]
    },
    {
     "name": "stderr",
     "output_type": "stream",
     "text": [
      "[Parallel(n_jobs=16)]: Done   9 tasks      | elapsed:  3.6min\n",
      "[Parallel(n_jobs=16)]: Done  80 out of  80 | elapsed: 21.1min finished\n"
     ]
    },
    {
     "name": "stdout",
     "output_type": "stream",
     "text": [
      "Best parameters:  {'colsample_bytree': 1, 'subsample': 0.8}\n",
      "Best score:  -19.790432767\n"
     ]
    }
   ],
   "source": [
    "param_test_4 = {\n",
    " 'subsample': [.4, .6, .8, 1],\n",
    " 'colsample_bytree': [.4, .6, .8, 1]\n",
    "}\n",
    "\n",
    "best_model_4 = grid_search(best_model_3, param_test_4, X_train_reduced, y_train_reduced)"
   ]
  },
  {
   "cell_type": "code",
   "execution_count": 12,
   "metadata": {},
   "outputs": [
    {
     "name": "stdout",
     "output_type": "stream",
     "text": [
      "Fitting 5 folds for each of 6 candidates, totalling 30 fits\n"
     ]
    },
    {
     "name": "stderr",
     "output_type": "stream",
     "text": [
      "[Parallel(n_jobs=16)]: Done  15 out of  30 | elapsed:  7.3min remaining:  7.3min\n",
      "[Parallel(n_jobs=16)]: Done  30 out of  30 | elapsed: 10.3min finished\n"
     ]
    },
    {
     "name": "stdout",
     "output_type": "stream",
     "text": [
      "Best parameters:  {'colsample_bytree': 1, 'subsample': 0.8}\n",
      "Best score:  -19.790432767\n"
     ]
    }
   ],
   "source": [
    "param_test_5 = {\n",
    " 'subsample': [.7, .8, .9],\n",
    " 'colsample_bytree': [.9, 1]\n",
    "}\n",
    "\n",
    "best_model_5 = grid_search(best_model_4, param_test_5, X_train_reduced, y_train_reduced)"
   ]
  },
  {
   "cell_type": "code",
   "execution_count": 13,
   "metadata": {},
   "outputs": [
    {
     "name": "stdout",
     "output_type": "stream",
     "text": [
      "Fitting 5 folds for each of 5 candidates, totalling 25 fits\n"
     ]
    },
    {
     "name": "stderr",
     "output_type": "stream",
     "text": [
      "[Parallel(n_jobs=16)]: Done   7 out of  25 | elapsed:  4.1min remaining: 10.6min\n",
      "[Parallel(n_jobs=16)]: Done  20 out of  25 | elapsed:  6.3min remaining:  1.6min\n",
      "[Parallel(n_jobs=16)]: Done  25 out of  25 | elapsed:  6.6min finished\n"
     ]
    },
    {
     "name": "stdout",
     "output_type": "stream",
     "text": [
      "Best parameters:  {'reg_alpha': 100}\n",
      "Best score:  -18.8520090575\n"
     ]
    }
   ],
   "source": [
    "param_test_6 = {\n",
    " 'reg_alpha':[1e-5, 1e-2, 0.1, 1, 100]\n",
    "}\n",
    "\n",
    "best_model_6 = grid_search(best_model_5, param_test_6, X_train_reduced, y_train_reduced)"
   ]
  },
  {
   "cell_type": "code",
   "execution_count": 14,
   "metadata": {},
   "outputs": [
    {
     "name": "stdout",
     "output_type": "stream",
     "text": [
      "Fitting 5 folds for each of 3 candidates, totalling 15 fits\n"
     ]
    },
    {
     "name": "stderr",
     "output_type": "stream",
     "text": [
      "[Parallel(n_jobs=16)]: Done   8 out of  15 | elapsed:  5.3min remaining:  4.6min\n",
      "[Parallel(n_jobs=16)]: Done  15 out of  15 | elapsed:  5.6min finished\n"
     ]
    },
    {
     "name": "stdout",
     "output_type": "stream",
     "text": [
      "Best parameters:  {'reg_alpha': 100}\n",
      "Best score:  -18.8520090575\n"
     ]
    }
   ],
   "source": [
    "param_test_7 = {\n",
    " 'reg_alpha': [50, 100, 500]\n",
    "}\n",
    "\n",
    "best_model_7 = grid_search(best_model_6, param_test_7, X_train_reduced, y_train_reduced)"
   ]
  },
  {
   "cell_type": "code",
   "execution_count": 15,
   "metadata": {},
   "outputs": [
    {
     "name": "stdout",
     "output_type": "stream",
     "text": [
      "[0]\ttrain-rmse:7.22422\tvalid-rmse:9.27554\n",
      "Multiple eval metrics have been passed: 'valid-rmse' will be used for early stopping.\n",
      "\n",
      "Will train until valid-rmse hasn't improved in 100 rounds.\n",
      "[500]\ttrain-rmse:4.1064\tvalid-rmse:5.37756\n",
      "[1000]\ttrain-rmse:3.16392\tvalid-rmse:4.2268\n",
      "[1500]\ttrain-rmse:2.78236\tvalid-rmse:3.79124\n",
      "[2000]\ttrain-rmse:2.58872\tvalid-rmse:3.59411\n",
      "[2500]\ttrain-rmse:2.47587\tvalid-rmse:3.49495\n",
      "[3000]\ttrain-rmse:2.39393\tvalid-rmse:3.43234\n",
      "[3500]\ttrain-rmse:2.33216\tvalid-rmse:3.39238\n",
      "[4000]\ttrain-rmse:2.28058\tvalid-rmse:3.36801\n",
      "[4500]\ttrain-rmse:2.24034\tvalid-rmse:3.35476\n",
      "[5000]\ttrain-rmse:2.20081\tvalid-rmse:3.3449\n",
      "[5500]\ttrain-rmse:2.16763\tvalid-rmse:3.33852\n",
      "[6000]\ttrain-rmse:2.13875\tvalid-rmse:3.3341\n",
      "Stopping. Best iteration:\n",
      "[6154]\ttrain-rmse:2.13055\tvalid-rmse:3.33283\n",
      "\n"
     ]
    }
   ],
   "source": [
    "final_model = train_XGBModel(best_model_7, X_train, y_train, X_test, y_test, .005)"
   ]
  },
  {
   "cell_type": "code",
   "execution_count": 16,
   "metadata": {
    "collapsed": true
   },
   "outputs": [],
   "source": [
    "final_model.save_model('../models/boosterArrivals.xgbm')"
   ]
  },
  {
   "cell_type": "code",
   "execution_count": 17,
   "metadata": {},
   "outputs": [
    {
     "name": "stdout",
     "output_type": "stream",
     "text": [
      "Results on test set\n",
      "Root mean squared error: 3.333\n",
      "R^2 score: 0.805\n"
     ]
    }
   ],
   "source": [
    "y_predict = final_model.predict(dtest)\n",
    "print('Results on test set')\n",
    "print('Root mean squared error: %2.3f' % math.sqrt(mean_squared_error(y_predict, y_test)))\n",
    "print('R^2 score: %2.3f' % r2_score(y_predict, y_test))"
   ]
  },
  {
   "cell_type": "code",
   "execution_count": 18,
   "metadata": {},
   "outputs": [
    {
     "data": {
      "text/plain": [
       "<matplotlib.axes._subplots.AxesSubplot at 0x2380193f4a8>"
      ]
     },
     "execution_count": 18,
     "metadata": {},
     "output_type": "execute_result"
    },
    {
     "data": {
      "image/png": "[encoded data removed]",
      "text/plain": [
       "<matplotlib.figure.Figure at 0x2387fe546a0>"
      ]
     },
     "metadata": {},
     "output_type": "display_data"
    }
   ],
   "source": [
    "xgb.plot_importance(final_model)"
   ]
  },
  {
   "cell_type": "code",
   "execution_count": null,
   "metadata": {
    "collapsed": true
   },
   "outputs": [],
   "source": []
  }
 ],
 "metadata": {
  "kernelspec": {
   "display_name": "Python 3",
   "language": "python",
   "name": "python3"
  },
  "language_info": {
   "codemirror_mode": {
    "name": "ipython",
    "version": 3
   },
   "file_extension": ".py",
   "mimetype": "text/x-python",
   "name": "python",
   "nbconvert_exporter": "python",
   "pygments_lexer": "ipython3",
   "version": "3.6.1"
  }
 },
 "nbformat": 4,
 "nbformat_minor": 2
}
