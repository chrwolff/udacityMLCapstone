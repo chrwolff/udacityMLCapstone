{
 "cells": [
  {
   "cell_type": "code",
   "execution_count": 1,
   "metadata": {
    "collapsed": true
   },
   "outputs": [],
   "source": [
    "import pandas as pd\n",
    "import numpy as np\n",
    "import math\n",
    "import xgboost as xgb\n",
    "from xgboost.sklearn import XGBRegressor\n",
    "from sklearn.utils import shuffle\n",
    "from sklearn.model_selection import GridSearchCV \n",
    "from sklearn.model_selection import cross_val_score\n",
    "from sklearn.metrics import mean_squared_error, make_scorer, r2_score\n",
    "from sklearn.externals import joblib\n",
    "%matplotlib inline\n",
    "import matplotlib.pyplot as plt\n",
    "plt.rcParams['figure.figsize'] = [20, 15]"
   ]
  },
  {
   "cell_type": "code",
   "execution_count": 2,
   "metadata": {
    "collapsed": true
   },
   "outputs": [],
   "source": [
    "#read trips data and join it with weather and public holidays dataset\n",
    "trips = pd.read_csv('../data/modelInput/flowPerHourAndStation.csv')\n",
    "additional_features = pd.read_csv('../data/modelInput/additionalFeatures.csv')\n",
    "trips = trips.merge(additional_features, how='left', on=('date_hour'))\n",
    "del additional_features\n",
    "\n",
    "stations = pd.read_csv('../data/modelInput/stations_201505_201611.csv')\n",
    "trips = trips.merge(stations, how='left', on=('station_id'))\n",
    "\n",
    "trips['date_hour'] = trips['date_hour'].apply(pd.Timestamp) \n",
    "trips = trips.set_index('date_hour')"
   ]
  },
  {
   "cell_type": "code",
   "execution_count": 3,
   "metadata": {},
   "outputs": [
    {
     "data": {
      "text/plain": [
       "Index(['station_id', 'arrivals', 'departures', 'flow', 'apparentTemperature',\n",
       "       'cloudCover', 'dewPoint', 'humidity', 'icon', 'precipAccumulation',\n",
       "       'precipIntensity', 'precipProbability', 'precipType', 'pressure',\n",
       "       'summary', 'temperature', 'uvIndex', 'visibility', 'windBearing',\n",
       "       'windSpeed', 'date', 'hour', 'weekday', 'month', 'year',\n",
       "       'holiday_description', 'is_holiday', 'is_weekend',\n",
       "       'is_weekend_or_holiday', 'station_name', 'latitude', 'longitude',\n",
       "       'first_used', 'last_used', 'latitude_pca', 'longitude_pca'],\n",
       "      dtype='object')"
      ]
     },
     "execution_count": 3,
     "metadata": {},
     "output_type": "execute_result"
    }
   ],
   "source": [
    "trips.columns"
   ]
  },
  {
   "cell_type": "code",
   "execution_count": 4,
   "metadata": {},
   "outputs": [
    {
     "name": "stdout",
     "output_type": "stream",
     "text": [
      "Training set size:  1045415\n",
      "Test set size:  611184\n",
      "Reduced training set size:  100000\n"
     ]
    }
   ],
   "source": [
    "features = ['latitude_pca', 'longitude_pca',\n",
    "            'apparentTemperature', 'dewPoint', 'humidity', 'precipIntensity',\n",
    "            'precipProbability', 'pressure', 'temperature',\n",
    "            'visibility', 'windBearing', 'windSpeed', 'hour',\n",
    "            'weekday', 'is_holiday', 'is_weekend', 'is_weekend_or_holiday']\n",
    "\n",
    "#Split the dataset at 2016-5-1 into training and test data\n",
    "test_begin_date = pd.Timestamp(2016, 5, 1)\n",
    "\n",
    "X_train = trips[:test_begin_date][features]\n",
    "X_test = trips[test_begin_date:][features]\n",
    "y_train = trips[:test_begin_date]['departures']\n",
    "y_test = trips[test_begin_date:]['departures']\n",
    "\n",
    "#create a reduced dataset for parameter optimization\n",
    "X_train_reduced, y_train_reduced = shuffle(X_train, y_train, n_samples=100000, random_state=42)\n",
    "\n",
    "#training and test set for the final model\n",
    "X_train, y_train = shuffle(X_train, y_train, random_state=42)\n",
    "X_test, y_test = shuffle(X_test, y_test, random_state=42)\n",
    "\n",
    "print('Training set size: ', X_train.shape[0])\n",
    "print('Test set size: ', X_test.shape[0])\n",
    "print('Reduced training set size: ', X_train_reduced.shape[0])"
   ]
  },
  {
   "cell_type": "code",
   "execution_count": 5,
   "metadata": {
    "collapsed": true
   },
   "outputs": [],
   "source": [
    "#Creates a XGBoost model from the parameters given in the sklearn wrapper\n",
    "def train_XGBModel(model, X_train, y_train, X_test, y_test, learning_rate=.005):\n",
    "    #get parameters from slearn wrapper\n",
    "    xgb_param = model.get_xgb_params()\n",
    "    \n",
    "    #set parameters for native XGBoost\n",
    "    xgb_param['eval_metric'] = 'rmse'\n",
    "    xgb_param['learning_rate'] = learning_rate\n",
    "    dtrain = xgb.DMatrix(X_train, label=y_train)\n",
    "    dvalid = xgb.DMatrix(X_test, label=y_test)\n",
    "    watchlist = [(dtrain, 'train'), (dvalid, 'valid')]\n",
    "    booster = xgb.train(xgb_param,\n",
    "                        dtrain,\n",
    "                        num_boost_round=100000,\n",
    "                        evals=watchlist,\n",
    "                        early_stopping_rounds=100,\n",
    "                        verbose_eval=500)\n",
    "    return booster"
   ]
  },
  {
   "cell_type": "code",
   "execution_count": 6,
   "metadata": {
    "collapsed": true
   },
   "outputs": [],
   "source": [
    "#Number of parallel jobs\n",
    "n_jobs=16\n",
    "\n",
    "#Number of folds for cross-validation\n",
    "cv_folds=5\n",
    "\n",
    "#MSE scorer for cross-validation\n",
    "mse_scorer = make_scorer(mean_squared_error, greater_is_better=False)\n",
    "\n",
    "#Grid search for given sklearn wrapper and parameters\n",
    "def grid_search(model, parameters, X_train, y_train):\n",
    "    gsearch = GridSearchCV(estimator=model, \n",
    "                           param_grid=parameters,\n",
    "                           scoring=mse_scorer,\n",
    "                           cv=cv_folds, \n",
    "                           n_jobs=n_jobs,\n",
    "                           verbose=2)\n",
    "    gsearch.fit(X_train, y_train)\n",
    "    print('Best parameters: ', gsearch.best_params_)\n",
    "    print('Best score: ', gsearch.best_score_)\n",
    "    return gsearch.best_estimator_"
   ]
  },
  {
   "cell_type": "code",
   "execution_count": 7,
   "metadata": {
    "collapsed": true
   },
   "outputs": [],
   "source": [
    "#sklearn wrapper for XGBoost with initial parameters\n",
    "basic_model = XGBRegressor(\n",
    "    booster='gbtree',\n",
    "    learning_rate=0.1,\n",
    "    gamma=0,\n",
    "    max_depth=3,\n",
    "    min_child_weight=1,\n",
    "    subsample=0.8,\n",
    "    colsample_bytree=0.8, \n",
    "    reg_lambda=1,\n",
    "    reg_alpha=0,\n",
    "    scale_pos_weight=1,\n",
    "    objective='count:poisson',\n",
    "    nthread=16,\n",
    "    seed=42)"
   ]
  },
  {
   "cell_type": "code",
   "execution_count": 8,
   "metadata": {},
   "outputs": [
    {
     "name": "stdout",
     "output_type": "stream",
     "text": [
      "[0]\ttrain-rmse:2.16649\tvalid-rmse:2.51317\n",
      "Multiple eval metrics have been passed: 'valid-rmse' will be used for early stopping.\n",
      "\n",
      "Will train until valid-rmse hasn't improved in 100 rounds.\n",
      "[500]\ttrain-rmse:1.41575\tvalid-rmse:1.66613\n",
      "[1000]\ttrain-rmse:1.36041\tvalid-rmse:1.6358\n",
      "Stopping. Best iteration:\n",
      "[1367]\ttrain-rmse:1.34046\tvalid-rmse:1.62815\n",
      "\n"
     ]
    }
   ],
   "source": [
    "#Evaluate the performance of an XGBooster based on the initial parameters\n",
    "basic_xgb = train_XGBModel(basic_model, X_train, y_train, X_test, y_test, learning_rate=.1)"
   ]
  },
  {
   "cell_type": "code",
   "execution_count": 9,
   "metadata": {},
   "outputs": [
    {
     "name": "stdout",
     "output_type": "stream",
     "text": [
      "Results on test set\n",
      "Root mean squared error: 1.628\n",
      "R^2 score: 0.549\n"
     ]
    }
   ],
   "source": [
    "dtest = xgb.DMatrix(X_test)\n",
    "y_predict = basic_xgb.predict(dtest)\n",
    "print('Results on test set')\n",
    "print('Root mean squared error: %2.3f' % math.sqrt(mean_squared_error(y_test, y_predict)))\n",
    "print('R^2 score: %2.3f' % r2_score(y_test, y_predict))"
   ]
  },
  {
   "cell_type": "code",
   "execution_count": 10,
   "metadata": {},
   "outputs": [
    {
     "name": "stdout",
     "output_type": "stream",
     "text": [
      "Fitting 5 folds for each of 20 candidates, totalling 100 fits\n"
     ]
    },
    {
     "name": "stderr",
     "output_type": "stream",
     "text": [
      "[Parallel(n_jobs=16)]: Done   9 tasks      | elapsed:  2.1min\n",
      "[Parallel(n_jobs=16)]: Done 100 out of 100 | elapsed: 29.7min finished\n"
     ]
    },
    {
     "name": "stdout",
     "output_type": "stream",
     "text": [
      "Best parameters:  {'max_depth': 5, 'min_child_weight': 4}\n",
      "Best score:  -1.85951052044\n"
     ]
    }
   ],
   "source": [
    "#Grid search starts here\n",
    "param_test_1 = {\n",
    " 'max_depth': [3, 5, 7, 9],\n",
    " 'min_child_weight': [1, 4, 7, 10, 13]\n",
    "}\n",
    "\n",
    "basic_model.set_params(n_estimators=500)\n",
    "best_model_1 = grid_search(basic_model, param_test_1, X_train_reduced, y_train_reduced)"
   ]
  },
  {
   "cell_type": "code",
   "execution_count": 11,
   "metadata": {},
   "outputs": [
    {
     "name": "stdout",
     "output_type": "stream",
     "text": [
      "Fitting 5 folds for each of 9 candidates, totalling 45 fits\n"
     ]
    },
    {
     "name": "stderr",
     "output_type": "stream",
     "text": [
      "[Parallel(n_jobs=16)]: Done   9 tasks      | elapsed:  3.6min\n",
      "[Parallel(n_jobs=16)]: Done  37 out of  45 | elapsed: 11.4min remaining:  2.5min\n",
      "[Parallel(n_jobs=16)]: Done  45 out of  45 | elapsed: 11.9min finished\n"
     ]
    },
    {
     "name": "stdout",
     "output_type": "stream",
     "text": [
      "Best parameters:  {'max_depth': 5, 'min_child_weight': 4}\n",
      "Best score:  -1.85951052044\n"
     ]
    }
   ],
   "source": [
    "param_test_2 = {\n",
    " 'max_depth': [4, 5, 6],\n",
    " 'min_child_weight': [2.5, 4, 5.5]\n",
    "}\n",
    "\n",
    "best_model_2 = grid_search(best_model_1, param_test_2, X_train_reduced, y_train_reduced)"
   ]
  },
  {
   "cell_type": "code",
   "execution_count": 12,
   "metadata": {},
   "outputs": [
    {
     "name": "stdout",
     "output_type": "stream",
     "text": [
      "Fitting 5 folds for each of 11 candidates, totalling 55 fits\n"
     ]
    },
    {
     "name": "stderr",
     "output_type": "stream",
     "text": [
      "[Parallel(n_jobs=16)]: Done   9 tasks      | elapsed:  4.6min\n",
      "[Parallel(n_jobs=16)]: Done  52 out of  55 | elapsed: 13.9min remaining:   47.9s\n",
      "[Parallel(n_jobs=16)]: Done  55 out of  55 | elapsed: 14.0min finished\n"
     ]
    },
    {
     "name": "stdout",
     "output_type": "stream",
     "text": [
      "Best parameters:  {'gamma': 0.7}\n",
      "Best score:  -1.85528066365\n"
     ]
    }
   ],
   "source": [
    "param_test_3 = {\n",
    " 'gamma': [i/10.0 for i in range(0, 11)]\n",
    "}\n",
    "\n",
    "best_model_3 = grid_search(best_model_2, param_test_3, X_train_reduced, y_train_reduced)"
   ]
  },
  {
   "cell_type": "code",
   "execution_count": 13,
   "metadata": {},
   "outputs": [
    {
     "name": "stdout",
     "output_type": "stream",
     "text": [
      "Fitting 5 folds for each of 16 candidates, totalling 80 fits\n"
     ]
    },
    {
     "name": "stderr",
     "output_type": "stream",
     "text": [
      "[Parallel(n_jobs=16)]: Done   9 tasks      | elapsed:  3.0min\n",
      "[Parallel(n_jobs=16)]: Done  80 out of  80 | elapsed: 18.2min finished\n"
     ]
    },
    {
     "name": "stdout",
     "output_type": "stream",
     "text": [
      "Best parameters:  {'colsample_bytree': 0.8, 'subsample': 0.8}\n",
      "Best score:  -1.85528066365\n"
     ]
    }
   ],
   "source": [
    "param_test_4 = {\n",
    " 'subsample': [.4, .6, .8, 1],\n",
    " 'colsample_bytree': [.4, .6, .8, 1]\n",
    "}\n",
    "\n",
    "best_model_4 = grid_search(best_model_3, param_test_4, X_train_reduced, y_train_reduced)"
   ]
  },
  {
   "cell_type": "code",
   "execution_count": 14,
   "metadata": {},
   "outputs": [
    {
     "name": "stdout",
     "output_type": "stream",
     "text": [
      "Fitting 5 folds for each of 9 candidates, totalling 45 fits\n"
     ]
    },
    {
     "name": "stderr",
     "output_type": "stream",
     "text": [
      "[Parallel(n_jobs=16)]: Done   9 tasks      | elapsed:  4.2min\n",
      "[Parallel(n_jobs=16)]: Done  37 out of  45 | elapsed: 11.6min remaining:  2.5min\n",
      "[Parallel(n_jobs=16)]: Done  45 out of  45 | elapsed: 11.8min finished\n"
     ]
    },
    {
     "name": "stdout",
     "output_type": "stream",
     "text": [
      "Best parameters:  {'colsample_bytree': 0.9, 'subsample': 0.8}\n",
      "Best score:  -1.85524034304\n"
     ]
    }
   ],
   "source": [
    "param_test_5 = {\n",
    " 'subsample': [.7, .8, .9],\n",
    " 'colsample_bytree': [.7, .8, .9]\n",
    "}\n",
    "\n",
    "best_model_5 = grid_search(best_model_4, param_test_5, X_train_reduced, y_train_reduced)"
   ]
  },
  {
   "cell_type": "code",
   "execution_count": 15,
   "metadata": {},
   "outputs": [
    {
     "name": "stdout",
     "output_type": "stream",
     "text": [
      "Fitting 5 folds for each of 5 candidates, totalling 25 fits\n"
     ]
    },
    {
     "name": "stderr",
     "output_type": "stream",
     "text": [
      "[Parallel(n_jobs=16)]: Done   7 out of  25 | elapsed:  4.2min remaining: 10.9min\n",
      "[Parallel(n_jobs=16)]: Done  20 out of  25 | elapsed:  6.5min remaining:  1.6min\n",
      "[Parallel(n_jobs=16)]: Done  25 out of  25 | elapsed:  6.8min finished\n"
     ]
    },
    {
     "name": "stdout",
     "output_type": "stream",
     "text": [
      "Best parameters:  {'reg_alpha': 1e-05}\n",
      "Best score:  -1.85524037221\n"
     ]
    }
   ],
   "source": [
    "param_test_6 = {\n",
    " 'reg_alpha':[1e-5, 1e-2, 0.1, 1, 100]\n",
    "}\n",
    "\n",
    "best_model_6 = grid_search(best_model_5, param_test_6, X_train_reduced, y_train_reduced)"
   ]
  },
  {
   "cell_type": "code",
   "execution_count": 16,
   "metadata": {},
   "outputs": [
    {
     "name": "stdout",
     "output_type": "stream",
     "text": [
      "Fitting 5 folds for each of 3 candidates, totalling 15 fits\n"
     ]
    },
    {
     "name": "stderr",
     "output_type": "stream",
     "text": [
      "[Parallel(n_jobs=16)]: Done   8 out of  15 | elapsed:  3.5min remaining:  3.1min\n",
      "[Parallel(n_jobs=16)]: Done  15 out of  15 | elapsed:  3.9min finished\n"
     ]
    },
    {
     "name": "stdout",
     "output_type": "stream",
     "text": [
      "Best parameters:  {'reg_alpha': 0.0001}\n",
      "Best score:  -1.85421472259\n"
     ]
    }
   ],
   "source": [
    "param_test_7 = {\n",
    " 'reg_alpha': [1e-6, 1e-5, 1e-4]\n",
    "}\n",
    "\n",
    "best_model_7 = grid_search(best_model_6, param_test_7, X_train_reduced, y_train_reduced)"
   ]
  },
  {
   "cell_type": "code",
   "execution_count": 17,
   "metadata": {},
   "outputs": [
    {
     "name": "stdout",
     "output_type": "stream",
     "text": [
      "[0]\ttrain-rmse:2.20679\tvalid-rmse:2.56288\n",
      "Multiple eval metrics have been passed: 'valid-rmse' will be used for early stopping.\n",
      "\n",
      "Will train until valid-rmse hasn't improved in 100 rounds.\n",
      "[500]\ttrain-rmse:1.72697\tvalid-rmse:1.98394\n",
      "[1000]\ttrain-rmse:1.59344\tvalid-rmse:1.83833\n",
      "[1500]\ttrain-rmse:1.51442\tvalid-rmse:1.76011\n",
      "[2000]\ttrain-rmse:1.46283\tvalid-rmse:1.71197\n",
      "[2500]\ttrain-rmse:1.42884\tvalid-rmse:1.68218\n",
      "[3000]\ttrain-rmse:1.40375\tvalid-rmse:1.66179\n",
      "[3500]\ttrain-rmse:1.3867\tvalid-rmse:1.64906\n",
      "[4000]\ttrain-rmse:1.37265\tvalid-rmse:1.63963\n",
      "[4500]\ttrain-rmse:1.36106\tvalid-rmse:1.63224\n",
      "[5000]\ttrain-rmse:1.34978\tvalid-rmse:1.62461\n",
      "[5500]\ttrain-rmse:1.34055\tvalid-rmse:1.61896\n",
      "[6000]\ttrain-rmse:1.33271\tvalid-rmse:1.61503\n",
      "[6500]\ttrain-rmse:1.32568\tvalid-rmse:1.61173\n",
      "[7000]\ttrain-rmse:1.31933\tvalid-rmse:1.60901\n",
      "[7500]\ttrain-rmse:1.31321\tvalid-rmse:1.60662\n",
      "[8000]\ttrain-rmse:1.30739\tvalid-rmse:1.60426\n",
      "[8500]\ttrain-rmse:1.30221\tvalid-rmse:1.60206\n",
      "[9000]\ttrain-rmse:1.29776\tvalid-rmse:1.60039\n",
      "[9500]\ttrain-rmse:1.29324\tvalid-rmse:1.59884\n",
      "[10000]\ttrain-rmse:1.28924\tvalid-rmse:1.59738\n",
      "[10500]\ttrain-rmse:1.28598\tvalid-rmse:1.5966\n",
      "[11000]\ttrain-rmse:1.28253\tvalid-rmse:1.59548\n",
      "[11500]\ttrain-rmse:1.27914\tvalid-rmse:1.59406\n",
      "[12000]\ttrain-rmse:1.27626\tvalid-rmse:1.59333\n",
      "[12500]\ttrain-rmse:1.2732\tvalid-rmse:1.5922\n",
      "[13000]\ttrain-rmse:1.27043\tvalid-rmse:1.59128\n",
      "[13500]\ttrain-rmse:1.2679\tvalid-rmse:1.59045\n",
      "[14000]\ttrain-rmse:1.26546\tvalid-rmse:1.58983\n",
      "[14500]\ttrain-rmse:1.26333\tvalid-rmse:1.58929\n",
      "[15000]\ttrain-rmse:1.26096\tvalid-rmse:1.58865\n",
      "[15500]\ttrain-rmse:1.25873\tvalid-rmse:1.58807\n",
      "[16000]\ttrain-rmse:1.25658\tvalid-rmse:1.58729\n",
      "[16500]\ttrain-rmse:1.25457\tvalid-rmse:1.58687\n",
      "[17000]\ttrain-rmse:1.25254\tvalid-rmse:1.58631\n",
      "[17500]\ttrain-rmse:1.25067\tvalid-rmse:1.58582\n",
      "[18000]\ttrain-rmse:1.24879\tvalid-rmse:1.58524\n",
      "[18500]\ttrain-rmse:1.24688\tvalid-rmse:1.58467\n",
      "[19000]\ttrain-rmse:1.24519\tvalid-rmse:1.58417\n",
      "[19500]\ttrain-rmse:1.24351\tvalid-rmse:1.58393\n",
      "Stopping. Best iteration:\n",
      "[19717]\ttrain-rmse:1.24279\tvalid-rmse:1.58375\n",
      "\n"
     ]
    }
   ],
   "source": [
    "#Grid search done. Train and evaluate final model.\n",
    "final_model = train_XGBModel(best_model_7, X_train, y_train, X_test, y_test, learning_rate=.005)"
   ]
  },
  {
   "cell_type": "code",
   "execution_count": 18,
   "metadata": {
    "collapsed": true
   },
   "outputs": [],
   "source": [
    "final_model.save_model('../models/boosterDepartures.xgbm')"
   ]
  },
  {
   "cell_type": "code",
   "execution_count": 19,
   "metadata": {},
   "outputs": [
    {
     "name": "stdout",
     "output_type": "stream",
     "text": [
      "Results on test set\n",
      "Root mean squared error: 1.584\n",
      "R^2 score: 0.573\n"
     ]
    }
   ],
   "source": [
    "y_predict = final_model.predict(dtest)\n",
    "print('Results on test set')\n",
    "print('Root mean squared error: %2.3f' % math.sqrt(mean_squared_error(y_test, y_predict)))\n",
    "print('R^2 score: %2.3f' % r2_score(y_test, y_predict))"
   ]
  },
  {
   "cell_type": "code",
   "execution_count": 20,
   "metadata": {},
   "outputs": [
    {
     "data": {
      "text/plain": [
       "<matplotlib.axes._subplots.AxesSubplot at 0x1951d366da0>"
      ]
     },
     "execution_count": 20,
     "metadata": {},
     "output_type": "execute_result"
    },
    {
     "data": {
      "image/png": "[encoded data removed]",
      "text/plain": [
       "<matplotlib.figure.Figure at 0x1951d1022e8>"
      ]
     },
     "metadata": {},
     "output_type": "display_data"
    }
   ],
   "source": [
    "xgb.plot_importance(final_model)"
   ]
  },
  {
   "cell_type": "code",
   "execution_count": null,
   "metadata": {
    "collapsed": true
   },
   "outputs": [],
   "source": []
  }
 ],
 "metadata": {
  "kernelspec": {
   "display_name": "Python 3",
   "language": "python",
   "name": "python3"
  },
  "language_info": {
   "codemirror_mode": {
    "name": "ipython",
    "version": 3
   },
   "file_extension": ".py",
   "mimetype": "text/x-python",
   "name": "python",
   "nbconvert_exporter": "python",
   "pygments_lexer": "ipython3",
   "version": "3.6.1"
  }
 },
 "nbformat": 4,
 "nbformat_minor": 2
}
