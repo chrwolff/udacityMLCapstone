{
 "cells": [
  {
   "cell_type": "code",
   "execution_count": 1,
   "metadata": {
    "collapsed": true
   },
   "outputs": [],
   "source": [
    "import pandas as pd\n",
    "import numpy as np\n",
    "import math\n",
    "import xgboost as xgb\n",
    "from xgboost.sklearn import XGBRegressor\n",
    "from sklearn.utils import shuffle\n",
    "from sklearn.model_selection import GridSearchCV \n",
    "from sklearn.model_selection import cross_val_score\n",
    "from sklearn.metrics import mean_squared_error, make_scorer, r2_score\n",
    "from sklearn.externals import joblib\n",
    "%matplotlib inline\n",
    "import matplotlib.pyplot as plt\n",
    "plt.rcParams['figure.figsize'] = [20, 15]"
   ]
  },
  {
   "cell_type": "code",
   "execution_count": 2,
   "metadata": {
    "collapsed": true
   },
   "outputs": [],
   "source": [
    "#read trips data and join it with weather and public holidays dataset\n",
    "trips = pd.read_csv('../data/modelInput/flowPerHourAndCluster.csv')\n",
    "additional_features = pd.read_csv('../data/modelInput/additionalFeatures.csv')\n",
    "trips = trips.merge(additional_features, how='left', on=('date_hour'))\n",
    "del additional_features\n",
    "trips['date_hour'] = trips['date_hour'].apply(pd.Timestamp) \n",
    "trips = trips.set_index('date_hour')"
   ]
  },
  {
   "cell_type": "code",
   "execution_count": 3,
   "metadata": {},
   "outputs": [
    {
     "data": {
      "text/plain": [
       "Index(['cluster_id', 'arrivals', 'departures', 'apparentTemperature',\n",
       "       'cloudCover', 'dewPoint', 'humidity', 'icon', 'precipAccumulation',\n",
       "       'precipIntensity', 'precipProbability', 'precipType', 'pressure',\n",
       "       'summary', 'temperature', 'uvIndex', 'visibility', 'windBearing',\n",
       "       'windSpeed', 'date', 'hour', 'weekday', 'month', 'year',\n",
       "       'holiday_description', 'is_holiday', 'is_weekend',\n",
       "       'is_weekend_or_holiday'],\n",
       "      dtype='object')"
      ]
     },
     "execution_count": 3,
     "metadata": {},
     "output_type": "execute_result"
    }
   ],
   "source": [
    "trips.columns"
   ]
  },
  {
   "cell_type": "code",
   "execution_count": 4,
   "metadata": {},
   "outputs": [
    {
     "name": "stdout",
     "output_type": "stream",
     "text": [
      "Training set size:  439250\n",
      "Test set size:  256800\n",
      "Reduced training set size:  87850\n"
     ]
    }
   ],
   "source": [
    "features = ['cluster_id',\n",
    "            'apparentTemperature', 'cloudCover',\n",
    "            'dewPoint', 'humidity', 'precipIntensity',\n",
    "            'precipProbability', 'pressure', 'temperature',\n",
    "            'uvIndex', 'visibility', 'windBearing', 'windSpeed', 'hour',\n",
    "            'weekday', 'is_holiday', 'is_weekend', 'is_weekend_or_holiday']\n",
    "\n",
    "#For parameter optimization, we create a reduced dataset from the 10 clusters\n",
    "#with highest sum-of-weights; these are the central clusters.\n",
    "cluster_model = joblib.load('../models/gaussianMixtureModel.pkl')\n",
    "cluster_selection = np.argsort(-cluster_model.weights_)[:10]\n",
    "reduced_trips = trips[trips['cluster_id'].isin(cluster_selection)]\n",
    "\n",
    "#Split the dataset at 2016-5-1 into training and test data \n",
    "test_begin_date = pd.Timestamp(2016, 5, 1)\n",
    "\n",
    "#We do cross-validation for the reduced dataset of 10 clusters.\n",
    "#The test period starting from 2016-5-1 is not used for parameter optimization. \n",
    "X_train_reduced = reduced_trips[:test_begin_date][features]\n",
    "y_train_reduced = reduced_trips[:test_begin_date]['departures']\n",
    "X_train_reduced, y_train_reduced = shuffle(X_train_reduced, y_train_reduced, random_state=42)\n",
    "\n",
    "#Create the trainig and test data for the final model.\n",
    "X_train = trips[:test_begin_date][features]\n",
    "X_test = trips[test_begin_date:][features]\n",
    "y_train = trips[:test_begin_date]['departures']\n",
    "y_test = trips[test_begin_date:]['departures']\n",
    "\n",
    "X_train, y_train = shuffle(X_train, y_train, random_state=42)\n",
    "X_test, y_test = shuffle(X_test, y_test, random_state=42)\n",
    "\n",
    "print('Training set size: ', X_train.shape[0])\n",
    "print('Test set size: ', X_test.shape[0])\n",
    "print('Reduced training set size: ', X_train_reduced.shape[0])"
   ]
  },
  {
   "cell_type": "code",
   "execution_count": 5,
   "metadata": {
    "collapsed": true
   },
   "outputs": [],
   "source": [
    "#Creates a XGBoost model from the parameters given in the sklearn wrapper.\n",
    "def train_XGBModel(model, X_train, y_train, X_test, y_test, learning_rate=.005):\n",
    "    #get parameters from slearn wrapper\n",
    "    xgb_param = model.get_xgb_params()\n",
    "    \n",
    "    #set parameters for native XGBoost\n",
    "    xgb_param['eval_metric'] = 'rmse'\n",
    "    xgb_param['learning_rate'] = learning_rate\n",
    "    dtrain = xgb.DMatrix(X_train, label=y_train)\n",
    "    dvalid = xgb.DMatrix(X_test, label=y_test)\n",
    "    watchlist = [(dtrain, 'train'), (dvalid, 'valid')]\n",
    "    booster = xgb.train(xgb_param,\n",
    "                        dtrain,\n",
    "                        num_boost_round=100000,\n",
    "                        evals=watchlist,\n",
    "                        early_stopping_rounds=100,\n",
    "                        verbose_eval=500)\n",
    "    return booster"
   ]
  },
  {
   "cell_type": "code",
   "execution_count": 6,
   "metadata": {
    "collapsed": true
   },
   "outputs": [],
   "source": [
    "#Number of parallel jobs\n",
    "n_jobs=16\n",
    "\n",
    "#Cross-validation fold number\n",
    "cv_folds=5\n",
    "\n",
    "#MSE scorer for cross-validation\n",
    "mse_scorer = make_scorer(mean_squared_error, greater_is_better=False)\n",
    "\n",
    "#Grid search for given sklearn wrapper and parameters\n",
    "def grid_search(model, parameters, X_train, y_train):\n",
    "    gsearch = GridSearchCV(estimator=model, \n",
    "                           param_grid=parameters,\n",
    "                           scoring=mse_scorer,\n",
    "                           cv=cv_folds, \n",
    "                           n_jobs=n_jobs,\n",
    "                           verbose=2)\n",
    "    gsearch.fit(X_train, y_train)\n",
    "    print('Best parameters: ', gsearch.best_params_)\n",
    "    print('Best score: ', gsearch.best_score_)\n",
    "    \n",
    "    #return the best model\n",
    "    return gsearch.best_estimator_"
   ]
  },
  {
   "cell_type": "code",
   "execution_count": 7,
   "metadata": {},
   "outputs": [
    {
     "name": "stdout",
     "output_type": "stream",
     "text": [
      "[0]\ttrain-rmse:7.22631\tvalid-rmse:9.26289\n",
      "Multiple eval metrics have been passed: 'valid-rmse' will be used for early stopping.\n",
      "\n",
      "Will train until valid-rmse hasn't improved in 100 rounds.\n",
      "[500]\ttrain-rmse:5.51874\tvalid-rmse:7.08478\n",
      "[1000]\ttrain-rmse:4.85297\tvalid-rmse:6.23422\n",
      "[1500]\ttrain-rmse:4.36952\tvalid-rmse:5.62544\n",
      "[2000]\ttrain-rmse:4.05847\tvalid-rmse:5.23482\n",
      "[2500]\ttrain-rmse:3.80802\tvalid-rmse:4.91804\n",
      "[3000]\ttrain-rmse:3.61594\tvalid-rmse:4.67426\n",
      "[3500]\ttrain-rmse:3.46971\tvalid-rmse:4.48916\n",
      "[4000]\ttrain-rmse:3.35456\tvalid-rmse:4.34615\n",
      "[4500]\ttrain-rmse:3.25942\tvalid-rmse:4.23237\n",
      "[5000]\ttrain-rmse:3.18104\tvalid-rmse:4.13952\n",
      "[5500]\ttrain-rmse:3.10974\tvalid-rmse:4.05311\n",
      "[6000]\ttrain-rmse:3.05079\tvalid-rmse:3.98314\n",
      "[6500]\ttrain-rmse:3.00318\tvalid-rmse:3.92857\n",
      "[7000]\ttrain-rmse:2.96487\tvalid-rmse:3.88679\n",
      "[7500]\ttrain-rmse:2.9321\tvalid-rmse:3.85386\n",
      "[8000]\ttrain-rmse:2.90163\tvalid-rmse:3.82447\n",
      "[8500]\ttrain-rmse:2.87424\tvalid-rmse:3.8\n",
      "[9000]\ttrain-rmse:2.8494\tvalid-rmse:3.77819\n",
      "[9500]\ttrain-rmse:2.827\tvalid-rmse:3.75902\n",
      "[10000]\ttrain-rmse:2.80788\tvalid-rmse:3.74435\n",
      "[10500]\ttrain-rmse:2.7869\tvalid-rmse:3.72943\n",
      "[11000]\ttrain-rmse:2.76988\tvalid-rmse:3.71872\n",
      "[11500]\ttrain-rmse:2.75361\tvalid-rmse:3.70874\n",
      "[12000]\ttrain-rmse:2.73823\tvalid-rmse:3.69991\n",
      "[12500]\ttrain-rmse:2.72279\tvalid-rmse:3.69176\n",
      "[13000]\ttrain-rmse:2.70898\tvalid-rmse:3.68332\n",
      "[13500]\ttrain-rmse:2.69563\tvalid-rmse:3.67664\n",
      "[14000]\ttrain-rmse:2.68256\tvalid-rmse:3.67084\n",
      "[14500]\ttrain-rmse:2.67082\tvalid-rmse:3.6659\n",
      "[15000]\ttrain-rmse:2.65908\tvalid-rmse:3.66135\n",
      "[15500]\ttrain-rmse:2.64781\tvalid-rmse:3.65631\n",
      "[16000]\ttrain-rmse:2.63723\tvalid-rmse:3.65327\n",
      "[16500]\ttrain-rmse:2.62701\tvalid-rmse:3.65011\n",
      "[17000]\ttrain-rmse:2.61713\tvalid-rmse:3.64719\n",
      "[17500]\ttrain-rmse:2.60757\tvalid-rmse:3.64364\n",
      "[18000]\ttrain-rmse:2.59874\tvalid-rmse:3.64121\n",
      "[18500]\ttrain-rmse:2.59097\tvalid-rmse:3.6389\n",
      "[19000]\ttrain-rmse:2.58191\tvalid-rmse:3.63595\n",
      "[19500]\ttrain-rmse:2.57306\tvalid-rmse:3.63229\n",
      "[20000]\ttrain-rmse:2.5645\tvalid-rmse:3.63032\n",
      "Stopping. Best iteration:\n",
      "[20370]\ttrain-rmse:2.55887\tvalid-rmse:3.62857\n",
      "\n"
     ]
    }
   ],
   "source": [
    "#sklearn wrapper for XGBoost with initial parameters \n",
    "basic_model = XGBRegressor(\n",
    "    booster='gbtree',\n",
    "    learning_rate=0.1,\n",
    "    gamma=0,\n",
    "    max_depth=3,\n",
    "    min_child_weight=1,\n",
    "    subsample=0.8,\n",
    "    colsample_bytree=0.8, \n",
    "    reg_lambda=1,\n",
    "    reg_alpha=0,\n",
    "    scale_pos_weight=1,\n",
    "    objective='count:poisson',\n",
    "    nthread=16,\n",
    "    seed=42)\n",
    "\n",
    "#Evaluate the performance of an XGBooster based on the initial parameters\n",
    "basic_xgb = train_XGBModel(basic_model, X_train, y_train, X_test, y_test, .005)"
   ]
  },
  {
   "cell_type": "code",
   "execution_count": 8,
   "metadata": {},
   "outputs": [
    {
     "name": "stdout",
     "output_type": "stream",
     "text": [
      "Results on test set\n",
      "Root mean squared error: 3.629\n",
      "R^2 score: 0.753\n"
     ]
    }
   ],
   "source": [
    "dtest = xgb.DMatrix(X_test)\n",
    "y_predict = basic_xgb.predict(dtest)\n",
    "print('Results on test set')\n",
    "print('Root mean squared error: %2.3f' % math.sqrt(mean_squared_error(y_predict, y_test)))\n",
    "print('R^2 score: %2.3f' % r2_score(y_predict, y_test))"
   ]
  },
  {
   "cell_type": "code",
   "execution_count": 8,
   "metadata": {},
   "outputs": [
    {
     "name": "stdout",
     "output_type": "stream",
     "text": [
      "Fitting 5 folds for each of 20 candidates, totalling 100 fits\n"
     ]
    },
    {
     "name": "stderr",
     "output_type": "stream",
     "text": [
      "[Parallel(n_jobs=16)]: Done   9 tasks      | elapsed:  2.2min\n",
      "[Parallel(n_jobs=16)]: Done 100 out of 100 | elapsed: 25.6min finished\n"
     ]
    },
    {
     "name": "stdout",
     "output_type": "stream",
     "text": [
      "Best parameters:  {'max_depth': 7, 'min_child_weight': 7}\n",
      "Best score:  -17.8952792852\n"
     ]
    }
   ],
   "source": [
    "#Grid search starts here\n",
    "\n",
    "param_test_1 = {\n",
    " 'max_depth': [3, 5, 7, 9],\n",
    " 'min_child_weight': [1, 4, 7, 10, 13]\n",
    "}\n",
    "\n",
    "basic_model.set_params(n_estimators=500)\n",
    "best_model_1 = grid_search(basic_model, param_test_1, X_train_reduced, y_train_reduced)"
   ]
  },
  {
   "cell_type": "code",
   "execution_count": 9,
   "metadata": {},
   "outputs": [
    {
     "name": "stdout",
     "output_type": "stream",
     "text": [
      "Fitting 5 folds for each of 15 candidates, totalling 75 fits\n"
     ]
    },
    {
     "name": "stderr",
     "output_type": "stream",
     "text": [
      "[Parallel(n_jobs=16)]: Done   9 tasks      | elapsed:  4.2min\n",
      "[Parallel(n_jobs=16)]: Done  75 out of  75 | elapsed: 22.0min finished\n"
     ]
    },
    {
     "name": "stdout",
     "output_type": "stream",
     "text": [
      "Best parameters:  {'max_depth': 6, 'min_child_weight': 8}\n",
      "Best score:  -17.2194044154\n"
     ]
    }
   ],
   "source": [
    "param_test_2 = {\n",
    " 'max_depth': [6, 7, 8],\n",
    " 'min_child_weight': [5, 6, 7, 8, 9]\n",
    "}\n",
    "\n",
    "best_model_2 = grid_search(best_model_1, param_test_2, X_train_reduced, y_train_reduced)"
   ]
  },
  {
   "cell_type": "code",
   "execution_count": 10,
   "metadata": {},
   "outputs": [
    {
     "name": "stdout",
     "output_type": "stream",
     "text": [
      "Fitting 5 folds for each of 11 candidates, totalling 55 fits\n"
     ]
    },
    {
     "name": "stderr",
     "output_type": "stream",
     "text": [
      "[Parallel(n_jobs=16)]: Done   9 tasks      | elapsed:  4.5min\n",
      "[Parallel(n_jobs=16)]: Done  52 out of  55 | elapsed: 13.5min remaining:   46.5s\n",
      "[Parallel(n_jobs=16)]: Done  55 out of  55 | elapsed: 13.6min finished\n"
     ]
    },
    {
     "name": "stdout",
     "output_type": "stream",
     "text": [
      "Best parameters:  {'gamma': 0.0}\n",
      "Best score:  -17.2194044154\n"
     ]
    }
   ],
   "source": [
    "param_test_3 = {\n",
    " 'gamma': [i/10.0 for i in range(0, 11)]\n",
    "}\n",
    "\n",
    "best_model_3 = grid_search(best_model_2, param_test_3, X_train_reduced, y_train_reduced)"
   ]
  },
  {
   "cell_type": "code",
   "execution_count": 11,
   "metadata": {},
   "outputs": [
    {
     "name": "stdout",
     "output_type": "stream",
     "text": [
      "Fitting 5 folds for each of 16 candidates, totalling 80 fits\n"
     ]
    },
    {
     "name": "stderr",
     "output_type": "stream",
     "text": [
      "[Parallel(n_jobs=16)]: Done   9 tasks      | elapsed:  4.2min\n",
      "[Parallel(n_jobs=16)]: Done  80 out of  80 | elapsed: 24.9min finished\n"
     ]
    },
    {
     "name": "stdout",
     "output_type": "stream",
     "text": [
      "Best parameters:  {'colsample_bytree': 1, 'subsample': 1}\n",
      "Best score:  -16.8024638484\n"
     ]
    }
   ],
   "source": [
    "param_test_4 = {\n",
    " 'subsample': [.4, .6, .8, 1],\n",
    " 'colsample_bytree': [.4, .6, .8, 1]\n",
    "}\n",
    "\n",
    "best_model_4 = grid_search(best_model_3, param_test_4, X_train_reduced, y_train_reduced)"
   ]
  },
  {
   "cell_type": "code",
   "execution_count": 12,
   "metadata": {},
   "outputs": [
    {
     "name": "stdout",
     "output_type": "stream",
     "text": [
      "Fitting 5 folds for each of 4 candidates, totalling 20 fits\n"
     ]
    },
    {
     "name": "stderr",
     "output_type": "stream",
     "text": [
      "[Parallel(n_jobs=16)]: Done  11 out of  20 | elapsed:  5.0min remaining:  4.1min\n",
      "[Parallel(n_jobs=16)]: Done  20 out of  20 | elapsed:  5.7min finished\n"
     ]
    },
    {
     "name": "stdout",
     "output_type": "stream",
     "text": [
      "Best parameters:  {'colsample_bytree': 1, 'subsample': 0.9}\n",
      "Best score:  -16.6844681906\n"
     ]
    }
   ],
   "source": [
    "param_test_5 = {\n",
    " 'subsample': [.9, 1],\n",
    " 'colsample_bytree': [.9, 1]\n",
    "}\n",
    "\n",
    "best_model_5 = grid_search(best_model_4, param_test_5, X_train_reduced, y_train_reduced)"
   ]
  },
  {
   "cell_type": "code",
   "execution_count": 13,
   "metadata": {},
   "outputs": [
    {
     "name": "stdout",
     "output_type": "stream",
     "text": [
      "Fitting 5 folds for each of 5 candidates, totalling 25 fits\n"
     ]
    },
    {
     "name": "stderr",
     "output_type": "stream",
     "text": [
      "[Parallel(n_jobs=16)]: Done   7 out of  25 | elapsed:  4.6min remaining: 11.8min\n",
      "[Parallel(n_jobs=16)]: Done  20 out of  25 | elapsed:  7.3min remaining:  1.8min\n",
      "[Parallel(n_jobs=16)]: Done  25 out of  25 | elapsed:  7.6min finished\n"
     ]
    },
    {
     "name": "stdout",
     "output_type": "stream",
     "text": [
      "Best parameters:  {'reg_alpha': 100}\n",
      "Best score:  -16.4530587769\n"
     ]
    }
   ],
   "source": [
    "param_test_6 = {\n",
    " 'reg_alpha':[1e-5, 1e-2, 0.1, 1, 100]\n",
    "}\n",
    "\n",
    "best_model_6 = grid_search(best_model_5, param_test_6, X_train_reduced, y_train_reduced)"
   ]
  },
  {
   "cell_type": "code",
   "execution_count": 14,
   "metadata": {},
   "outputs": [
    {
     "name": "stdout",
     "output_type": "stream",
     "text": [
      "Fitting 5 folds for each of 3 candidates, totalling 15 fits\n"
     ]
    },
    {
     "name": "stderr",
     "output_type": "stream",
     "text": [
      "[Parallel(n_jobs=16)]: Done   8 out of  15 | elapsed:  5.3min remaining:  4.7min\n",
      "[Parallel(n_jobs=16)]: Done  15 out of  15 | elapsed:  5.6min finished\n"
     ]
    },
    {
     "name": "stdout",
     "output_type": "stream",
     "text": [
      "Best parameters:  {'reg_alpha': 50}\n",
      "Best score:  -16.3569261433\n"
     ]
    }
   ],
   "source": [
    "param_test_7 = {\n",
    " 'reg_alpha': [50, 100, 500]\n",
    "}\n",
    "\n",
    "best_model_7 = grid_search(best_model_6, param_test_7, X_train_reduced, y_train_reduced)"
   ]
  },
  {
   "cell_type": "code",
   "execution_count": 15,
   "metadata": {},
   "outputs": [
    {
     "name": "stdout",
     "output_type": "stream",
     "text": [
      "Fitting 5 folds for each of 3 candidates, totalling 15 fits\n"
     ]
    },
    {
     "name": "stderr",
     "output_type": "stream",
     "text": [
      "[Parallel(n_jobs=16)]: Done   8 out of  15 | elapsed:  5.0min remaining:  4.4min\n",
      "[Parallel(n_jobs=16)]: Done  15 out of  15 | elapsed:  5.5min finished\n"
     ]
    },
    {
     "name": "stdout",
     "output_type": "stream",
     "text": [
      "Best parameters:  {'reg_alpha': 50}\n",
      "Best score:  -16.3569261433\n"
     ]
    }
   ],
   "source": [
    "param_test_8 = {\n",
    " 'reg_alpha': [25, 50, 75]\n",
    "}\n",
    "\n",
    "best_model_8 = grid_search(best_model_7, param_test_8, X_train_reduced, y_train_reduced)"
   ]
  },
  {
   "cell_type": "code",
   "execution_count": 17,
   "metadata": {},
   "outputs": [
    {
     "name": "stdout",
     "output_type": "stream",
     "text": [
      "[0]\ttrain-rmse:7.22062\tvalid-rmse:9.25629\n",
      "Multiple eval metrics have been passed: 'valid-rmse' will be used for early stopping.\n",
      "\n",
      "Will train until valid-rmse hasn't improved in 100 rounds.\n",
      "[500]\ttrain-rmse:4.05386\tvalid-rmse:5.27925\n",
      "[1000]\ttrain-rmse:3.22307\tvalid-rmse:4.27562\n",
      "[1500]\ttrain-rmse:2.88772\tvalid-rmse:3.89667\n",
      "[2000]\ttrain-rmse:2.71788\tvalid-rmse:3.72334\n",
      "[2500]\ttrain-rmse:2.60525\tvalid-rmse:3.62161\n",
      "[3000]\ttrain-rmse:2.51398\tvalid-rmse:3.54941\n",
      "[3500]\ttrain-rmse:2.44142\tvalid-rmse:3.50187\n",
      "[4000]\ttrain-rmse:2.38267\tvalid-rmse:3.46985\n",
      "[4500]\ttrain-rmse:2.33279\tvalid-rmse:3.44311\n",
      "[5000]\ttrain-rmse:2.28991\tvalid-rmse:3.426\n",
      "[5500]\ttrain-rmse:2.254\tvalid-rmse:3.4174\n",
      "[6000]\ttrain-rmse:2.22045\tvalid-rmse:3.40904\n",
      "[6500]\ttrain-rmse:2.1919\tvalid-rmse:3.40492\n",
      "[7000]\ttrain-rmse:2.16719\tvalid-rmse:3.40204\n",
      "Stopping. Best iteration:\n",
      "[6948]\ttrain-rmse:2.16931\tvalid-rmse:3.4014\n",
      "\n"
     ]
    }
   ],
   "source": [
    "#Grid search done. Train and evaluate final model.\n",
    "\n",
    "final_model = train_XGBModel(best_model_8, X_train, y_train, X_test, y_test, .005)"
   ]
  },
  {
   "cell_type": "code",
   "execution_count": 18,
   "metadata": {
    "collapsed": true
   },
   "outputs": [],
   "source": [
    "final_model.save_model('../models/boosterDepartures.xgbm')"
   ]
  },
  {
   "cell_type": "code",
   "execution_count": 15,
   "metadata": {},
   "outputs": [
    {
     "name": "stdout",
     "output_type": "stream",
     "text": [
      "Results on test set\n",
      "Root mean squared error: 3.402\n",
      "R^2 score: 0.796\n"
     ]
    }
   ],
   "source": [
    "y_predict = final_model.predict(dtest)\n",
    "print('Results on test set')\n",
    "print('Root mean squared error: %2.3f' % math.sqrt(mean_squared_error(y_predict, y_test)))\n",
    "print('R^2 score: %2.3f' % r2_score(y_predict, y_test))"
   ]
  },
  {
   "cell_type": "code",
   "execution_count": 16,
   "metadata": {},
   "outputs": [
    {
     "data": {
      "text/plain": [
       "<matplotlib.axes._subplots.AxesSubplot at 0x222e2ddbc50>"
      ]
     },
     "execution_count": 16,
     "metadata": {},
     "output_type": "execute_result"
    },
    {
     "data": {
      "image/png": "[encoded data removed]",
      "text/plain": [
       "<matplotlib.figure.Figure at 0x222e1344748>"
      ]
     },
     "metadata": {},
     "output_type": "display_data"
    }
   ],
   "source": [
    "xgb.plot_importance(final_model)"
   ]
  },
  {
   "cell_type": "code",
   "execution_count": null,
   "metadata": {
    "collapsed": true
   },
   "outputs": [],
   "source": []
  }
 ],
 "metadata": {
  "kernelspec": {
   "display_name": "Python 3",
   "language": "python",
   "name": "python3"
  },
  "language_info": {
   "codemirror_mode": {
    "name": "ipython",
    "version": 3
   },
   "file_extension": ".py",
   "mimetype": "text/x-python",
   "name": "python",
   "nbconvert_exporter": "python",
   "pygments_lexer": "ipython3",
   "version": "3.6.1"
  }
 },
 "nbformat": 4,
 "nbformat_minor": 2
}
