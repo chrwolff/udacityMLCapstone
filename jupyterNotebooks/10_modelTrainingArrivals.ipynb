{
 "cells": [
  {
   "cell_type": "code",
   "execution_count": 1,
   "metadata": {
    "collapsed": true
   },
   "outputs": [],
   "source": [
    "import pandas as pd\n",
    "import numpy as np\n",
    "import math\n",
    "import xgboost as xgb\n",
    "from xgboost.sklearn import XGBRegressor\n",
    "from sklearn.utils import shuffle\n",
    "from sklearn.model_selection import GridSearchCV \n",
    "from sklearn.model_selection import cross_val_score\n",
    "from sklearn.metrics import mean_squared_error, make_scorer, r2_score\n",
    "from sklearn.externals import joblib\n",
    "%matplotlib inline\n",
    "import matplotlib.pyplot as plt\n",
    "plt.rcParams['figure.figsize'] = [20, 15]"
   ]
  },
  {
   "cell_type": "code",
   "execution_count": 2,
   "metadata": {
    "collapsed": true
   },
   "outputs": [],
   "source": [
    "trips = pd.read_csv('../data/modelInput/flowPerHourAndStation.csv')\n",
    "additional_features = pd.read_csv('../data/modelInput/additionalFeatures.csv')\n",
    "trips = trips.merge(additional_features, how='left', on=('date_hour'))\n",
    "del additional_features\n",
    "\n",
    "stations = pd.read_csv('../data/modelInput/stations_201505_201611.csv')\n",
    "trips = trips.merge(stations, how='left', on=('station_id'))\n",
    "\n",
    "trips['date_hour'] = trips['date_hour'].apply(pd.Timestamp) \n",
    "trips = trips.set_index('date_hour')"
   ]
  },
  {
   "cell_type": "code",
   "execution_count": 3,
   "metadata": {},
   "outputs": [
    {
     "data": {
      "text/plain": [
       "Index(['station_id', 'arrivals', 'departures', 'flow', 'apparentTemperature',\n",
       "       'cloudCover', 'dewPoint', 'humidity', 'icon', 'precipAccumulation',\n",
       "       'precipIntensity', 'precipProbability', 'precipType', 'pressure',\n",
       "       'summary', 'temperature', 'uvIndex', 'visibility', 'windBearing',\n",
       "       'windSpeed', 'date', 'hour', 'weekday', 'month', 'year',\n",
       "       'holiday_description', 'is_holiday', 'is_weekend',\n",
       "       'is_weekend_or_holiday', 'station_name', 'latitude', 'longitude',\n",
       "       'first_used', 'last_used', 'latitude_pca', 'longitude_pca'],\n",
       "      dtype='object')"
      ]
     },
     "execution_count": 3,
     "metadata": {},
     "output_type": "execute_result"
    }
   ],
   "source": [
    "trips.columns"
   ]
  },
  {
   "cell_type": "code",
   "execution_count": 4,
   "metadata": {},
   "outputs": [
    {
     "name": "stdout",
     "output_type": "stream",
     "text": [
      "Training set size:  1045415\n",
      "Test set size:  611184\n",
      "Reduced training set size:  100000\n"
     ]
    }
   ],
   "source": [
    "features = ['latitude_pca', 'longitude_pca',\n",
    "            'apparentTemperature', 'dewPoint', 'humidity', 'precipIntensity',\n",
    "            'precipProbability', 'pressure', 'temperature',\n",
    "            'visibility', 'windBearing', 'windSpeed', 'hour',\n",
    "            'weekday', 'is_holiday', 'is_weekend', 'is_weekend_or_holiday']\n",
    "\n",
    "test_begin_date = pd.Timestamp(2016, 5, 1)\n",
    "\n",
    "X_train = trips[:test_begin_date][features]\n",
    "X_test = trips[test_begin_date:][features]\n",
    "y_train = trips[:test_begin_date]['arrivals']\n",
    "y_test = trips[test_begin_date:]['arrivals']\n",
    "\n",
    "X_train_reduced, y_train_reduced = shuffle(X_train, y_train, n_samples=100000 ,random_state=42)\n",
    "X_train, y_train = shuffle(X_train, y_train, random_state=42)\n",
    "X_test, y_test = shuffle(X_test, y_test, random_state=42)\n",
    "\n",
    "print('Training set size: ', X_train.shape[0])\n",
    "print('Test set size: ', X_test.shape[0])\n",
    "print('Reduced training set size: ', X_train_reduced.shape[0])"
   ]
  },
  {
   "cell_type": "code",
   "execution_count": 5,
   "metadata": {
    "collapsed": true
   },
   "outputs": [],
   "source": [
    "def train_XGBModel(model, X_train, y_train, X_test, y_test, learning_rate=.005):\n",
    "    xgb_param = model.get_xgb_params()\n",
    "    xgb_param['eval_metric'] = 'rmse'\n",
    "    xgb_param['learning_rate'] = learning_rate\n",
    "    dtrain = xgb.DMatrix(X_train, label=y_train)\n",
    "    dvalid = xgb.DMatrix(X_test, label=y_test)\n",
    "    watchlist = [(dtrain, 'train'), (dvalid, 'valid')]\n",
    "    booster = xgb.train(xgb_param,\n",
    "                        dtrain,\n",
    "                        num_boost_round=100000,\n",
    "                        evals=watchlist,\n",
    "                        early_stopping_rounds=100,\n",
    "                        verbose_eval=500)\n",
    "    return booster"
   ]
  },
  {
   "cell_type": "code",
   "execution_count": 6,
   "metadata": {
    "collapsed": true
   },
   "outputs": [],
   "source": [
    "n_jobs=16\n",
    "cv_folds=5\n",
    "\n",
    "mse_scorer = make_scorer(mean_squared_error, greater_is_better=False)\n",
    "\n",
    "def grid_search(model, parameters, X_train, y_train):\n",
    "    gsearch = GridSearchCV(estimator=model, \n",
    "                           param_grid=parameters,\n",
    "                           scoring=mse_scorer,\n",
    "                           cv=cv_folds, \n",
    "                           n_jobs=n_jobs,\n",
    "                           verbose=2)\n",
    "    gsearch.fit(X_train, y_train)\n",
    "    print('Best parameters: ', gsearch.best_params_)\n",
    "    print('Best score: ', gsearch.best_score_)\n",
    "    return gsearch.best_estimator_"
   ]
  },
  {
   "cell_type": "code",
   "execution_count": 7,
   "metadata": {
    "collapsed": true
   },
   "outputs": [],
   "source": [
    "basic_model = XGBRegressor(\n",
    "    booster='gbtree',\n",
    "    learning_rate=0.1,\n",
    "    gamma=0,\n",
    "    max_depth=3,\n",
    "    min_child_weight=1,\n",
    "    subsample=0.8,\n",
    "    colsample_bytree=0.8, \n",
    "    reg_lambda=1,\n",
    "    reg_alpha=0,\n",
    "    scale_pos_weight=1,\n",
    "    objective='count:poisson',\n",
    "    nthread=16,\n",
    "    seed=42)"
   ]
  },
  {
   "cell_type": "code",
   "execution_count": 8,
   "metadata": {},
   "outputs": [
    {
     "name": "stdout",
     "output_type": "stream",
     "text": [
      "[0]\ttrain-rmse:2.1928\tvalid-rmse:2.59688\n",
      "Multiple eval metrics have been passed: 'valid-rmse' will be used for early stopping.\n",
      "\n",
      "Will train until valid-rmse hasn't improved in 100 rounds.\n",
      "[500]\ttrain-rmse:1.42756\tvalid-rmse:1.72537\n",
      "[1000]\ttrain-rmse:1.36431\tvalid-rmse:1.68142\n",
      "[1500]\ttrain-rmse:1.33536\tvalid-rmse:1.66965\n",
      "[2000]\ttrain-rmse:1.31448\tvalid-rmse:1.65751\n",
      "[2500]\ttrain-rmse:1.29376\tvalid-rmse:1.6432\n",
      "[3000]\ttrain-rmse:1.28216\tvalid-rmse:1.63888\n",
      "[3500]\ttrain-rmse:1.26933\tvalid-rmse:1.62975\n",
      "[4000]\ttrain-rmse:1.26071\tvalid-rmse:1.62619\n",
      "Stopping. Best iteration:\n",
      "[3995]\ttrain-rmse:1.2607\tvalid-rmse:1.62586\n",
      "\n"
     ]
    }
   ],
   "source": [
    "basic_xgb = train_XGBModel(basic_model, X_train, y_train, X_test, y_test, learning_rate=.1)"
   ]
  },
  {
   "cell_type": "code",
   "execution_count": 9,
   "metadata": {},
   "outputs": [
    {
     "name": "stdout",
     "output_type": "stream",
     "text": [
      "Results on test set\n",
      "Root mean squared error: 1.626\n",
      "R^2 score: 0.580\n"
     ]
    }
   ],
   "source": [
    "dtest = xgb.DMatrix(X_test)\n",
    "y_predict = basic_xgb.predict(dtest)\n",
    "print('Results on test set')\n",
    "print('Root mean squared error: %2.3f' % math.sqrt(mean_squared_error(y_test, y_predict)))\n",
    "print('R^2 score: %2.3f' % r2_score(y_test, y_predict))"
   ]
  },
  {
   "cell_type": "code",
   "execution_count": 10,
   "metadata": {},
   "outputs": [
    {
     "name": "stdout",
     "output_type": "stream",
     "text": [
      "Fitting 5 folds for each of 20 candidates, totalling 100 fits\n"
     ]
    },
    {
     "name": "stderr",
     "output_type": "stream",
     "text": [
      "[Parallel(n_jobs=16)]: Done   9 tasks      | elapsed:  2.6min\n",
      "[Parallel(n_jobs=16)]: Done 100 out of 100 | elapsed: 28.9min finished\n"
     ]
    },
    {
     "name": "stdout",
     "output_type": "stream",
     "text": [
      "Best parameters:  {'max_depth': 5, 'min_child_weight': 7}\n",
      "Best score:  -1.80240770785\n"
     ]
    }
   ],
   "source": [
    "param_test_1 = {\n",
    " 'max_depth': [3, 5, 7, 9],\n",
    " 'min_child_weight': [1, 4, 7, 10, 13]\n",
    "}\n",
    "\n",
    "basic_model.set_params(n_estimators=500)\n",
    "best_model_1 = grid_search(basic_model, param_test_1, X_train_reduced, y_train_reduced)"
   ]
  },
  {
   "cell_type": "code",
   "execution_count": 11,
   "metadata": {},
   "outputs": [
    {
     "name": "stdout",
     "output_type": "stream",
     "text": [
      "Fitting 5 folds for each of 9 candidates, totalling 45 fits\n"
     ]
    },
    {
     "name": "stderr",
     "output_type": "stream",
     "text": [
      "[Parallel(n_jobs=16)]: Done   9 tasks      | elapsed:  3.1min\n",
      "[Parallel(n_jobs=16)]: Done  37 out of  45 | elapsed:  9.7min remaining:  2.1min\n",
      "[Parallel(n_jobs=16)]: Done  45 out of  45 | elapsed: 10.3min finished\n"
     ]
    },
    {
     "name": "stdout",
     "output_type": "stream",
     "text": [
      "Best parameters:  {'max_depth': 6, 'min_child_weight': 7}\n",
      "Best score:  -1.78480976981\n"
     ]
    }
   ],
   "source": [
    "param_test_2 = {\n",
    " 'max_depth': [4, 5, 6],\n",
    " 'min_child_weight': [5.5, 7, 8.5]\n",
    "}\n",
    "\n",
    "best_model_2 = grid_search(best_model_1, param_test_2, X_train_reduced, y_train_reduced)"
   ]
  },
  {
   "cell_type": "code",
   "execution_count": 12,
   "metadata": {},
   "outputs": [
    {
     "name": "stdout",
     "output_type": "stream",
     "text": [
      "Fitting 5 folds for each of 11 candidates, totalling 55 fits\n"
     ]
    },
    {
     "name": "stderr",
     "output_type": "stream",
     "text": [
      "[Parallel(n_jobs=16)]: Done   9 tasks      | elapsed:  6.2min\n",
      "[Parallel(n_jobs=16)]: Done  52 out of  55 | elapsed: 19.0min remaining:  1.1min\n",
      "[Parallel(n_jobs=16)]: Done  55 out of  55 | elapsed: 19.2min finished\n"
     ]
    },
    {
     "name": "stdout",
     "output_type": "stream",
     "text": [
      "Best parameters:  {'gamma': 0.2}\n",
      "Best score:  -1.77852622663\n"
     ]
    }
   ],
   "source": [
    "param_test_3 = {\n",
    " 'gamma': [i/10.0 for i in range(0, 11)]\n",
    "}\n",
    "\n",
    "best_model_3 = grid_search(best_model_2, param_test_3, X_train_reduced, y_train_reduced)"
   ]
  },
  {
   "cell_type": "code",
   "execution_count": 13,
   "metadata": {},
   "outputs": [
    {
     "name": "stdout",
     "output_type": "stream",
     "text": [
      "Fitting 5 folds for each of 16 candidates, totalling 80 fits\n"
     ]
    },
    {
     "name": "stderr",
     "output_type": "stream",
     "text": [
      "[Parallel(n_jobs=16)]: Done   9 tasks      | elapsed:  3.1min\n",
      "[Parallel(n_jobs=16)]: Done  80 out of  80 | elapsed: 19.5min finished\n"
     ]
    },
    {
     "name": "stdout",
     "output_type": "stream",
     "text": [
      "Best parameters:  {'colsample_bytree': 1, 'subsample': 1}\n",
      "Best score:  -1.75939124506\n"
     ]
    }
   ],
   "source": [
    "param_test_4 = {\n",
    " 'subsample': [.4, .6, .8, 1],\n",
    " 'colsample_bytree': [.4, .6, .8, 1]\n",
    "}\n",
    "\n",
    "best_model_4 = grid_search(best_model_3, param_test_4, X_train_reduced, y_train_reduced)"
   ]
  },
  {
   "cell_type": "code",
   "execution_count": 14,
   "metadata": {},
   "outputs": [
    {
     "name": "stdout",
     "output_type": "stream",
     "text": [
      "Fitting 5 folds for each of 4 candidates, totalling 20 fits\n"
     ]
    },
    {
     "name": "stderr",
     "output_type": "stream",
     "text": [
      "[Parallel(n_jobs=16)]: Done  11 out of  20 | elapsed:  7.2min remaining:  5.9min\n",
      "[Parallel(n_jobs=16)]: Done  20 out of  20 | elapsed:  8.2min finished\n"
     ]
    },
    {
     "name": "stdout",
     "output_type": "stream",
     "text": [
      "Best parameters:  {'colsample_bytree': 1, 'subsample': 1}\n",
      "Best score:  -1.75939124506\n"
     ]
    }
   ],
   "source": [
    "param_test_5 = {\n",
    " 'subsample': [.9, 1],\n",
    " 'colsample_bytree': [.9, 1]\n",
    "}\n",
    "\n",
    "best_model_5 = grid_search(best_model_4, param_test_5, X_train_reduced, y_train_reduced)"
   ]
  },
  {
   "cell_type": "code",
   "execution_count": 15,
   "metadata": {},
   "outputs": [
    {
     "name": "stdout",
     "output_type": "stream",
     "text": [
      "Fitting 5 folds for each of 5 candidates, totalling 25 fits\n"
     ]
    },
    {
     "name": "stderr",
     "output_type": "stream",
     "text": [
      "[Parallel(n_jobs=16)]: Done   7 out of  25 | elapsed:  5.8min remaining: 15.0min\n",
      "[Parallel(n_jobs=16)]: Done  20 out of  25 | elapsed:  9.0min remaining:  2.2min\n",
      "[Parallel(n_jobs=16)]: Done  25 out of  25 | elapsed:  9.2min finished\n"
     ]
    },
    {
     "name": "stdout",
     "output_type": "stream",
     "text": [
      "Best parameters:  {'reg_alpha': 0.1}\n",
      "Best score:  -1.75731875011\n"
     ]
    }
   ],
   "source": [
    "param_test_6 = {\n",
    " 'reg_alpha':[1e-5, 1e-2, 0.1, 1, 100]\n",
    "}\n",
    "\n",
    "best_model_6 = grid_search(best_model_5, param_test_6, X_train_reduced, y_train_reduced)"
   ]
  },
  {
   "cell_type": "code",
   "execution_count": 16,
   "metadata": {},
   "outputs": [
    {
     "name": "stdout",
     "output_type": "stream",
     "text": [
      "Fitting 5 folds for each of 3 candidates, totalling 15 fits\n"
     ]
    },
    {
     "name": "stderr",
     "output_type": "stream",
     "text": [
      "[Parallel(n_jobs=16)]: Done   8 out of  15 | elapsed:  5.9min remaining:  5.2min\n",
      "[Parallel(n_jobs=16)]: Done  15 out of  15 | elapsed:  6.5min finished\n"
     ]
    },
    {
     "name": "stdout",
     "output_type": "stream",
     "text": [
      "Best parameters:  {'reg_alpha': 0.1}\n",
      "Best score:  -1.75731875011\n"
     ]
    }
   ],
   "source": [
    "param_test_7 = {\n",
    " 'reg_alpha': [5e-2, .1, .5]\n",
    "}\n",
    "\n",
    "best_model_7 = grid_search(best_model_6, param_test_7, X_train_reduced, y_train_reduced)"
   ]
  },
  {
   "cell_type": "code",
   "execution_count": 17,
   "metadata": {},
   "outputs": [
    {
     "name": "stdout",
     "output_type": "stream",
     "text": [
      "[0]\ttrain-rmse:2.23191\tvalid-rmse:2.64471\n",
      "Multiple eval metrics have been passed: 'valid-rmse' will be used for early stopping.\n",
      "\n",
      "Will train until valid-rmse hasn't improved in 100 rounds.\n",
      "[500]\ttrain-rmse:1.67917\tvalid-rmse:1.98415\n",
      "[1000]\ttrain-rmse:1.51034\tvalid-rmse:1.80162\n",
      "[1500]\ttrain-rmse:1.4388\tvalid-rmse:1.73191\n",
      "[2000]\ttrain-rmse:1.39393\tvalid-rmse:1.69059\n",
      "[2500]\ttrain-rmse:1.36716\tvalid-rmse:1.66732\n",
      "[3000]\ttrain-rmse:1.34357\tvalid-rmse:1.64879\n",
      "[3500]\ttrain-rmse:1.32497\tvalid-rmse:1.63281\n",
      "[4000]\ttrain-rmse:1.31243\tvalid-rmse:1.62435\n",
      "[4500]\ttrain-rmse:1.30291\tvalid-rmse:1.6184\n",
      "[5000]\ttrain-rmse:1.28741\tvalid-rmse:1.60657\n",
      "Stopping. Best iteration:\n",
      "[5289]\ttrain-rmse:1.28257\tvalid-rmse:1.60455\n",
      "\n"
     ]
    }
   ],
   "source": [
    "final_model = train_XGBModel(best_model_7, X_train, y_train, X_test, y_test, learning_rate=.005)"
   ]
  },
  {
   "cell_type": "code",
   "execution_count": 18,
   "metadata": {
    "collapsed": true
   },
   "outputs": [],
   "source": [
    "final_model.save_model('../models/boosterArrivals.xgbm')"
   ]
  },
  {
   "cell_type": "code",
   "execution_count": 19,
   "metadata": {},
   "outputs": [
    {
     "name": "stdout",
     "output_type": "stream",
     "text": [
      "Results on test set\n",
      "Root mean squared error: 1.605\n",
      "R^2 score: 0.591\n"
     ]
    }
   ],
   "source": [
    "y_predict = final_model.predict(dtest)\n",
    "print('Results on test set')\n",
    "print('Root mean squared error: %2.3f' % math.sqrt(mean_squared_error(y_test, y_predict)))\n",
    "print('R^2 score: %2.3f' % r2_score(y_test, y_predict))"
   ]
  },
  {
   "cell_type": "code",
   "execution_count": 20,
   "metadata": {},
   "outputs": [
    {
     "data": {
      "text/plain": [
       "<matplotlib.axes._subplots.AxesSubplot at 0x2addf63a710>"
      ]
     },
     "execution_count": 20,
     "metadata": {},
     "output_type": "execute_result"
    },
    {
     "data": {
      "image/png": "[encoded data removed]",
      "text/plain": [
       "<matplotlib.figure.Figure at 0x2addf3d3e48>"
      ]
     },
     "metadata": {},
     "output_type": "display_data"
    }
   ],
   "source": [
    "xgb.plot_importance(final_model)"
   ]
  },
  {
   "cell_type": "code",
   "execution_count": null,
   "metadata": {
    "collapsed": true
   },
   "outputs": [],
   "source": []
  }
 ],
 "metadata": {
  "kernelspec": {
   "display_name": "Python 3",
   "language": "python",
   "name": "python3"
  },
  "language_info": {
   "codemirror_mode": {
    "name": "ipython",
    "version": 3
   },
   "file_extension": ".py",
   "mimetype": "text/x-python",
   "name": "python",
   "nbconvert_exporter": "python",
   "pygments_lexer": "ipython3",
   "version": "3.6.1"
  }
 },
 "nbformat": 4,
 "nbformat_minor": 2
}
