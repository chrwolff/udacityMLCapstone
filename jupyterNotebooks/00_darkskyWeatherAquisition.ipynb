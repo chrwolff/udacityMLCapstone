{
 "cells": [
  {
   "cell_type": "code",
   "execution_count": 2,
   "metadata": {
    "collapsed": true
   },
   "outputs": [],
   "source": [
    "import darksky as ds\n",
    "import pandas as pd\n",
    "import numpy as np\n",
    "\n",
    "API_KEY = ''\n",
    "BOSTON_LATITUDE = 42.355428\n",
    "BOSTON_LONGITUDE = -71.069786\n",
    "EXCLUDE=['flags', 'currently', 'minutely', 'alerts']"
   ]
  },
  {
   "cell_type": "code",
   "execution_count": 2,
   "metadata": {
    "collapsed": true
   },
   "outputs": [],
   "source": [
    "dates = pd.date_range(pd.Timestamp('2015-02-01'), pd.Timestamp('2016-11-30'), freq='D')"
   ]
  },
  {
   "cell_type": "code",
   "execution_count": 6,
   "metadata": {
    "collapsed": true
   },
   "outputs": [],
   "source": [
    "raw = []\n",
    "for date in dates:\n",
    "    date_iso = date.to_pydatetime().isoformat()\n",
    "    response = ds.Forecast(key=API_KEY, latitude=BOSTON_LATITUDE, longitude=BOSTON_LONGITUDE, time=date_iso, units='si', exclude=EXCLUDE)\n",
    "    raw[date_iso] = {\n",
    "        'timezone': response['timezone'],\n",
    "        'hourly': response['hourly']['data'],\n",
    "        'daily': response['daily']['data']\n",
    "    }"
   ]
  },
  {
   "cell_type": "code",
   "execution_count": 7,
   "metadata": {
    "collapsed": true
   },
   "outputs": [],
   "source": [
    "df_input = []\n",
    "for day_index in output:\n",
    "    for hour_data in output[day_index]['hourly']:\n",
    "        hour_data['timestamp'] = pd.to_datetime(hour_data['time'], unit='s').tz_localize('UTC')\n",
    "        df_input += [hour_data]\n",
    "\n",
    "weather_df = pd.DataFrame(df_input)\n",
    "weather_df = weather_df.set_index('timestamp')\n",
    "weather_df = weather_df.tz_convert('EST')\n",
    "weather_df = weather_df.drop(['time'], axis=1)"
   ]
  },
  {
   "cell_type": "code",
   "execution_count": 10,
   "metadata": {
    "collapsed": true
   },
   "outputs": [],
   "source": [
    "weather_df.to_csv('../data/raw/hourlyWeatherSummary_2015_2016.csv')"
   ]
  }
 ],
 "metadata": {
  "kernelspec": {
   "display_name": "Python 3",
   "language": "python",
   "name": "python3"
  },
  "language_info": {
   "codemirror_mode": {
    "name": "ipython",
    "version": 3
   },
   "file_extension": ".py",
   "mimetype": "text/x-python",
   "name": "python",
   "nbconvert_exporter": "python",
   "pygments_lexer": "ipython3",
   "version": "3.6.1"
  }
 },
 "nbformat": 4,
 "nbformat_minor": 2
}
