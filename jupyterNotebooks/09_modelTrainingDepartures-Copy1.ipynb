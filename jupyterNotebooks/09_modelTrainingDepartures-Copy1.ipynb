{
 "cells": [
  {
   "cell_type": "code",
   "execution_count": 1,
   "metadata": {
    "collapsed": true
   },
   "outputs": [],
   "source": [
    "import pandas as pd\n",
    "import numpy as np\n",
    "import math\n",
    "import xgboost as xgb\n",
    "from xgboost.sklearn import XGBRegressor\n",
    "from sklearn.utils import shuffle\n",
    "from sklearn.model_selection import GridSearchCV \n",
    "from sklearn.model_selection import cross_val_score\n",
    "from sklearn.metrics import mean_squared_error, make_scorer, r2_score\n",
    "from sklearn.externals import joblib\n",
    "%matplotlib inline\n",
    "import matplotlib.pyplot as plt\n",
    "plt.rcParams['figure.figsize'] = [20, 15]"
   ]
  },
  {
   "cell_type": "code",
   "execution_count": 2,
   "metadata": {
    "collapsed": true
   },
   "outputs": [],
   "source": [
    "#read trips data and join it with weather and public holidays dataset\n",
    "trips = pd.read_csv('../data/modelInput/flowPerHourAndStation.csv')\n",
    "additional_features = pd.read_csv('../data/modelInput/additionalFeatures.csv')\n",
    "trips = trips.merge(additional_features, how='left', on=('date_hour'))\n",
    "del additional_features\n",
    "trips['date_hour'] = trips['date_hour'].apply(pd.Timestamp) \n",
    "trips = trips.set_index('date_hour')"
   ]
  },
  {
   "cell_type": "code",
   "execution_count": 3,
   "metadata": {},
   "outputs": [
    {
     "data": {
      "text/plain": [
       "Index(['station_id', 'arrivals', 'departures', 'flow', 'apparentTemperature',\n",
       "       'cloudCover', 'dewPoint', 'humidity', 'icon', 'precipAccumulation',\n",
       "       'precipIntensity', 'precipProbability', 'precipType', 'pressure',\n",
       "       'summary', 'temperature', 'uvIndex', 'visibility', 'windBearing',\n",
       "       'windSpeed', 'date', 'hour', 'weekday', 'month', 'year',\n",
       "       'holiday_description', 'is_holiday', 'is_weekend',\n",
       "       'is_weekend_or_holiday'],\n",
       "      dtype='object')"
      ]
     },
     "execution_count": 3,
     "metadata": {},
     "output_type": "execute_result"
    }
   ],
   "source": [
    "trips.columns"
   ]
  },
  {
   "cell_type": "code",
   "execution_count": 4,
   "metadata": {},
   "outputs": [
    {
     "name": "stdout",
     "output_type": "stream",
     "text": [
      "Training set size:  1045415\n",
      "Test set size:  611184\n",
      "Reduced training set size:  100000\n"
     ]
    }
   ],
   "source": [
    "features = ['station_id',\n",
    "            'apparentTemperature', 'cloudCover',\n",
    "            'dewPoint', 'humidity', 'precipIntensity',\n",
    "            'precipProbability', 'pressure', 'temperature',\n",
    "            'uvIndex', 'visibility', 'windBearing', 'windSpeed', 'hour',\n",
    "            'weekday', 'is_holiday', 'is_weekend', 'is_weekend_or_holiday']\n",
    "\n",
    "#Split the dataset at 2016-5-1 into training and test data \n",
    "test_begin_date = pd.Timestamp(2016, 5, 1)\n",
    "\n",
    "#Create the trainig and test data for the final model.\n",
    "X_train = trips[:test_begin_date][features]\n",
    "X_test = trips[test_begin_date:][features]\n",
    "y_train = trips[:test_begin_date]['departures']\n",
    "y_test = trips[test_begin_date:]['departures']\n",
    "\n",
    "X_train_reduced, y_train_reduced = shuffle(X_train, y_train, n_samples=100000 ,random_state=42)\n",
    "X_train, y_train = shuffle(X_train, y_train, random_state=42)\n",
    "X_test, y_test = shuffle(X_test, y_test, random_state=42)\n",
    "\n",
    "print('Training set size: ', X_train.shape[0])\n",
    "print('Test set size: ', X_test.shape[0])\n",
    "print('Reduced training set size: ', X_train_reduced.shape[0])"
   ]
  },
  {
   "cell_type": "code",
   "execution_count": 5,
   "metadata": {
    "collapsed": true
   },
   "outputs": [],
   "source": [
    "#Creates a XGBoost model from the parameters given in the sklearn wrapper.\n",
    "def train_XGBModel(model, X_train, y_train, X_test, y_test, learning_rate=.005):\n",
    "    #get parameters from slearn wrapper\n",
    "    xgb_param = model.get_xgb_params()\n",
    "    \n",
    "    #set parameters for native XGBoost\n",
    "    xgb_param['eval_metric'] = 'rmse'\n",
    "    xgb_param['learning_rate'] = learning_rate\n",
    "    dtrain = xgb.DMatrix(X_train, label=y_train)\n",
    "    dvalid = xgb.DMatrix(X_test, label=y_test)\n",
    "    watchlist = [(dtrain, 'train'), (dvalid, 'valid')]\n",
    "    booster = xgb.train(xgb_param,\n",
    "                        dtrain,\n",
    "                        num_boost_round=100000,\n",
    "                        evals=watchlist,\n",
    "                        early_stopping_rounds=100,\n",
    "                        verbose_eval=500)\n",
    "    return booster"
   ]
  },
  {
   "cell_type": "code",
   "execution_count": 6,
   "metadata": {
    "collapsed": true
   },
   "outputs": [],
   "source": [
    "#Number of parallel jobs\n",
    "n_jobs=16\n",
    "\n",
    "#Cross-validation fold number\n",
    "cv_folds=5\n",
    "\n",
    "#MSE scorer for cross-validation\n",
    "mse_scorer = make_scorer(mean_squared_error, greater_is_better=False)\n",
    "\n",
    "#Grid search for given sklearn wrapper and parameters\n",
    "def grid_search(model, parameters, X_train, y_train):\n",
    "    gsearch = GridSearchCV(estimator=model, \n",
    "                           param_grid=parameters,\n",
    "                           scoring=mse_scorer,\n",
    "                           cv=cv_folds, \n",
    "                           n_jobs=n_jobs,\n",
    "                           verbose=2)\n",
    "    gsearch.fit(X_train, y_train)\n",
    "    print('Best parameters: ', gsearch.best_params_)\n",
    "    print('Best score: ', gsearch.best_score_)\n",
    "    \n",
    "    #return the best model\n",
    "    return gsearch.best_estimator_"
   ]
  },
  {
   "cell_type": "code",
   "execution_count": 7,
   "metadata": {
    "collapsed": true
   },
   "outputs": [],
   "source": [
    "#sklearn wrapper for XGBoost with initial parameters \n",
    "basic_model = XGBRegressor(\n",
    "    booster='gbtree',\n",
    "    learning_rate=0.1,\n",
    "    gamma=0,\n",
    "    max_depth=3,\n",
    "    min_child_weight=1,\n",
    "    subsample=0.8,\n",
    "    colsample_bytree=0.8, \n",
    "    reg_lambda=1,\n",
    "    reg_alpha=0,\n",
    "    scale_pos_weight=1,\n",
    "    objective='count:poisson',\n",
    "    nthread=16,\n",
    "    seed=42)"
   ]
  },
  {
   "cell_type": "code",
   "execution_count": 8,
   "metadata": {},
   "outputs": [
    {
     "name": "stdout",
     "output_type": "stream",
     "text": [
      "[0]\ttrain-rmse:2.20731\tvalid-rmse:2.56347\n",
      "Multiple eval metrics have been passed: 'valid-rmse' will be used for early stopping.\n",
      "\n",
      "Will train until valid-rmse hasn't improved in 100 rounds.\n",
      "[500]\ttrain-rmse:1.87065\tvalid-rmse:2.14938\n",
      "[1000]\ttrain-rmse:1.78978\tvalid-rmse:2.05754\n",
      "[1500]\ttrain-rmse:1.72842\tvalid-rmse:1.98733\n",
      "[2000]\ttrain-rmse:1.68582\tvalid-rmse:1.93835\n",
      "[2500]\ttrain-rmse:1.65679\tvalid-rmse:1.90735\n",
      "[3000]\ttrain-rmse:1.63281\tvalid-rmse:1.88277\n",
      "[3500]\ttrain-rmse:1.61186\tvalid-rmse:1.8601\n",
      "[4000]\ttrain-rmse:1.59155\tvalid-rmse:1.83886\n",
      "[4500]\ttrain-rmse:1.57115\tvalid-rmse:1.81903\n",
      "[5000]\ttrain-rmse:1.55553\tvalid-rmse:1.80317\n",
      "[5500]\ttrain-rmse:1.54296\tvalid-rmse:1.79108\n",
      "[6000]\ttrain-rmse:1.53329\tvalid-rmse:1.78206\n",
      "[6500]\ttrain-rmse:1.5234\tvalid-rmse:1.77226\n",
      "[7000]\ttrain-rmse:1.5152\tvalid-rmse:1.76442\n",
      "[7500]\ttrain-rmse:1.50638\tvalid-rmse:1.75673\n",
      "[8000]\ttrain-rmse:1.49957\tvalid-rmse:1.75045\n",
      "[8500]\ttrain-rmse:1.49269\tvalid-rmse:1.74418\n",
      "[9000]\ttrain-rmse:1.48595\tvalid-rmse:1.73822\n",
      "[9500]\ttrain-rmse:1.47917\tvalid-rmse:1.73228\n",
      "[10000]\ttrain-rmse:1.47327\tvalid-rmse:1.7273\n",
      "[10500]\ttrain-rmse:1.46817\tvalid-rmse:1.72299\n",
      "[11000]\ttrain-rmse:1.46328\tvalid-rmse:1.71898\n",
      "[11500]\ttrain-rmse:1.4586\tvalid-rmse:1.7155\n",
      "[12000]\ttrain-rmse:1.45413\tvalid-rmse:1.71202\n",
      "[12500]\ttrain-rmse:1.45044\tvalid-rmse:1.7092\n",
      "[13000]\ttrain-rmse:1.44688\tvalid-rmse:1.70677\n",
      "[13500]\ttrain-rmse:1.4432\tvalid-rmse:1.70412\n",
      "[14000]\ttrain-rmse:1.43993\tvalid-rmse:1.70184\n",
      "[14500]\ttrain-rmse:1.43676\tvalid-rmse:1.69949\n",
      "[15000]\ttrain-rmse:1.43365\tvalid-rmse:1.69731\n",
      "[15500]\ttrain-rmse:1.43065\tvalid-rmse:1.69512\n",
      "[16000]\ttrain-rmse:1.42796\tvalid-rmse:1.69327\n",
      "[16500]\ttrain-rmse:1.42523\tvalid-rmse:1.69146\n",
      "[17000]\ttrain-rmse:1.42225\tvalid-rmse:1.68921\n",
      "[17500]\ttrain-rmse:1.41984\tvalid-rmse:1.68766\n",
      "[18000]\ttrain-rmse:1.41734\tvalid-rmse:1.68596\n",
      "[18500]\ttrain-rmse:1.4149\tvalid-rmse:1.68426\n",
      "[19000]\ttrain-rmse:1.4127\tvalid-rmse:1.68279\n",
      "[19500]\ttrain-rmse:1.41081\tvalid-rmse:1.68172\n",
      "[20000]\ttrain-rmse:1.4089\tvalid-rmse:1.68056\n",
      "[20500]\ttrain-rmse:1.40715\tvalid-rmse:1.67967\n",
      "[21000]\ttrain-rmse:1.40525\tvalid-rmse:1.67862\n",
      "[21500]\ttrain-rmse:1.40359\tvalid-rmse:1.6778\n",
      "[22000]\ttrain-rmse:1.40175\tvalid-rmse:1.67666\n",
      "[22500]\ttrain-rmse:1.40012\tvalid-rmse:1.67586\n",
      "[23000]\ttrain-rmse:1.39865\tvalid-rmse:1.67509\n",
      "[23500]\ttrain-rmse:1.39708\tvalid-rmse:1.67425\n",
      "[24000]\ttrain-rmse:1.39529\tvalid-rmse:1.67332\n",
      "[24500]\ttrain-rmse:1.39387\tvalid-rmse:1.67273\n",
      "[25000]\ttrain-rmse:1.39248\tvalid-rmse:1.67205\n",
      "[25500]\ttrain-rmse:1.3911\tvalid-rmse:1.67129\n",
      "[26000]\ttrain-rmse:1.3898\tvalid-rmse:1.67063\n",
      "[26500]\ttrain-rmse:1.38857\tvalid-rmse:1.67014\n",
      "[27000]\ttrain-rmse:1.38742\tvalid-rmse:1.66973\n",
      "[27500]\ttrain-rmse:1.38615\tvalid-rmse:1.66908\n",
      "[28000]\ttrain-rmse:1.38506\tvalid-rmse:1.66858\n",
      "[28500]\ttrain-rmse:1.38389\tvalid-rmse:1.6681\n",
      "[29000]\ttrain-rmse:1.38271\tvalid-rmse:1.66752\n",
      "Stopping. Best iteration:\n",
      "[28968]\ttrain-rmse:1.38275\tvalid-rmse:1.6675\n",
      "\n"
     ]
    }
   ],
   "source": [
    "#Evaluate the performance of an XGBooster based on the initial parameters\n",
    "basic_xgb = train_XGBModel(basic_model, X_train, y_train, X_test, y_test, .005)"
   ]
  },
  {
   "cell_type": "code",
   "execution_count": 11,
   "metadata": {},
   "outputs": [
    {
     "ename": "NameError",
     "evalue": "name 'basic_xgb' is not defined",
     "output_type": "error",
     "traceback": [
      "\u001b[1;31m---------------------------------------------------------------------------\u001b[0m",
      "\u001b[1;31mNameError\u001b[0m                                 Traceback (most recent call last)",
      "\u001b[1;32m<ipython-input-11-af5443246d12>\u001b[0m in \u001b[0;36m<module>\u001b[1;34m()\u001b[0m\n\u001b[0;32m      1\u001b[0m \u001b[0mdtest\u001b[0m \u001b[1;33m=\u001b[0m \u001b[0mxgb\u001b[0m\u001b[1;33m.\u001b[0m\u001b[0mDMatrix\u001b[0m\u001b[1;33m(\u001b[0m\u001b[0mX_test\u001b[0m\u001b[1;33m)\u001b[0m\u001b[1;33m\u001b[0m\u001b[0m\n\u001b[1;32m----> 2\u001b[1;33m \u001b[0my_predict\u001b[0m \u001b[1;33m=\u001b[0m \u001b[0mbasic_xgb\u001b[0m\u001b[1;33m.\u001b[0m\u001b[0mpredict\u001b[0m\u001b[1;33m(\u001b[0m\u001b[0mdtest\u001b[0m\u001b[1;33m)\u001b[0m\u001b[1;33m\u001b[0m\u001b[0m\n\u001b[0m\u001b[0;32m      3\u001b[0m \u001b[0mprint\u001b[0m\u001b[1;33m(\u001b[0m\u001b[1;34m'Results on test set'\u001b[0m\u001b[1;33m)\u001b[0m\u001b[1;33m\u001b[0m\u001b[0m\n\u001b[0;32m      4\u001b[0m \u001b[0mprint\u001b[0m\u001b[1;33m(\u001b[0m\u001b[1;34m'Root mean squared error: %2.3f'\u001b[0m \u001b[1;33m%\u001b[0m \u001b[0mmath\u001b[0m\u001b[1;33m.\u001b[0m\u001b[0msqrt\u001b[0m\u001b[1;33m(\u001b[0m\u001b[0mmean_squared_error\u001b[0m\u001b[1;33m(\u001b[0m\u001b[0my_predict\u001b[0m\u001b[1;33m,\u001b[0m \u001b[0my_test\u001b[0m\u001b[1;33m)\u001b[0m\u001b[1;33m)\u001b[0m\u001b[1;33m)\u001b[0m\u001b[1;33m\u001b[0m\u001b[0m\n\u001b[0;32m      5\u001b[0m \u001b[0mprint\u001b[0m\u001b[1;33m(\u001b[0m\u001b[1;34m'R^2 score: %2.3f'\u001b[0m \u001b[1;33m%\u001b[0m \u001b[0mr2_score\u001b[0m\u001b[1;33m(\u001b[0m\u001b[0my_predict\u001b[0m\u001b[1;33m,\u001b[0m \u001b[0my_test\u001b[0m\u001b[1;33m)\u001b[0m\u001b[1;33m)\u001b[0m\u001b[1;33m\u001b[0m\u001b[0m\n",
      "\u001b[1;31mNameError\u001b[0m: name 'basic_xgb' is not defined"
     ]
    }
   ],
   "source": [
    "dtest = xgb.DMatrix(X_test)\n",
    "y_predict = basic_xgb.predict(dtest)\n",
    "print('Results on test set')\n",
    "print('Root mean squared error: %2.3f' % math.sqrt(mean_squared_error(y_predict, y_test)))\n",
    "print('R^2 score: %2.3f' % r2_score(y_predict, y_test))"
   ]
  },
  {
   "cell_type": "code",
   "execution_count": 11,
   "metadata": {},
   "outputs": [
    {
     "name": "stdout",
     "output_type": "stream",
     "text": [
      "Fitting 5 folds for each of 20 candidates, totalling 100 fits\n"
     ]
    },
    {
     "name": "stderr",
     "output_type": "stream",
     "text": [
      "[Parallel(n_jobs=16)]: Done   9 tasks      | elapsed:  3.1min\n",
      "[Parallel(n_jobs=16)]: Done 100 out of 100 | elapsed: 37.1min finished\n"
     ]
    },
    {
     "name": "stdout",
     "output_type": "stream",
     "text": [
      "Best parameters:  {'max_depth': 5, 'min_child_weight': 1}\n",
      "Best score:  -2.01941269976\n"
     ]
    }
   ],
   "source": [
    "#Grid search starts here\n",
    "\n",
    "param_test_1 = {\n",
    " 'max_depth': [3, 5, 7, 9],\n",
    " 'min_child_weight': [1, 4, 7, 10, 13]\n",
    "}\n",
    "\n",
    "basic_model.set_params(n_estimators=500)\n",
    "best_model_1 = grid_search(basic_model, param_test_1, X_train_reduced, y_train_reduced)"
   ]
  },
  {
   "cell_type": "code",
   "execution_count": 12,
   "metadata": {},
   "outputs": [
    {
     "name": "stdout",
     "output_type": "stream",
     "text": [
      "Fitting 5 folds for each of 9 candidates, totalling 45 fits\n"
     ]
    },
    {
     "name": "stderr",
     "output_type": "stream",
     "text": [
      "[Parallel(n_jobs=16)]: Done   9 tasks      | elapsed:  4.5min\n",
      "[Parallel(n_jobs=16)]: Done  37 out of  45 | elapsed: 13.7min remaining:  3.0min\n",
      "[Parallel(n_jobs=16)]: Done  45 out of  45 | elapsed: 14.5min finished\n"
     ]
    },
    {
     "name": "stdout",
     "output_type": "stream",
     "text": [
      "Best parameters:  {'max_depth': 5, 'min_child_weight': 3}\n",
      "Best score:  -2.00867804731\n"
     ]
    }
   ],
   "source": [
    "param_test_2 = {\n",
    " 'max_depth': [4, 5, 6],\n",
    " 'min_child_weight': [1, 2, 3]\n",
    "}\n",
    "\n",
    "best_model_2 = grid_search(best_model_1, param_test_2, X_train_reduced, y_train_reduced)"
   ]
  },
  {
   "cell_type": "code",
   "execution_count": 13,
   "metadata": {},
   "outputs": [
    {
     "name": "stdout",
     "output_type": "stream",
     "text": [
      "Fitting 5 folds for each of 11 candidates, totalling 55 fits\n"
     ]
    },
    {
     "name": "stderr",
     "output_type": "stream",
     "text": [
      "[Parallel(n_jobs=16)]: Done   9 tasks      | elapsed:  4.0min\n",
      "[Parallel(n_jobs=16)]: Done  52 out of  55 | elapsed: 12.5min remaining:   43.0s\n",
      "[Parallel(n_jobs=16)]: Done  55 out of  55 | elapsed: 12.6min finished\n"
     ]
    },
    {
     "name": "stdout",
     "output_type": "stream",
     "text": [
      "Best parameters:  {'gamma': 0.0}\n",
      "Best score:  -2.00867804731\n"
     ]
    }
   ],
   "source": [
    "param_test_3 = {\n",
    " 'gamma': [i/10.0 for i in range(0, 11)]\n",
    "}\n",
    "\n",
    "best_model_3 = grid_search(best_model_2, param_test_3, X_train_reduced, y_train_reduced)"
   ]
  },
  {
   "cell_type": "code",
   "execution_count": 14,
   "metadata": {},
   "outputs": [
    {
     "name": "stdout",
     "output_type": "stream",
     "text": [
      "Fitting 5 folds for each of 16 candidates, totalling 80 fits\n"
     ]
    },
    {
     "name": "stderr",
     "output_type": "stream",
     "text": [
      "[Parallel(n_jobs=16)]: Done   9 tasks      | elapsed:  3.9min\n",
      "[Parallel(n_jobs=16)]: Done  80 out of  80 | elapsed: 22.0min finished\n"
     ]
    },
    {
     "name": "stdout",
     "output_type": "stream",
     "text": [
      "Best parameters:  {'colsample_bytree': 1, 'subsample': 1}\n",
      "Best score:  -1.96801337061\n"
     ]
    }
   ],
   "source": [
    "param_test_4 = {\n",
    " 'subsample': [.4, .6, .8, 1],\n",
    " 'colsample_bytree': [.4, .6, .8, 1]\n",
    "}\n",
    "\n",
    "best_model_4 = grid_search(best_model_3, param_test_4, X_train_reduced, y_train_reduced)"
   ]
  },
  {
   "cell_type": "code",
   "execution_count": 15,
   "metadata": {},
   "outputs": [
    {
     "name": "stdout",
     "output_type": "stream",
     "text": [
      "Fitting 5 folds for each of 4 candidates, totalling 20 fits\n"
     ]
    },
    {
     "name": "stderr",
     "output_type": "stream",
     "text": [
      "[Parallel(n_jobs=16)]: Done  11 out of  20 | elapsed:  4.7min remaining:  3.9min\n",
      "[Parallel(n_jobs=16)]: Done  20 out of  20 | elapsed:  5.4min finished\n"
     ]
    },
    {
     "name": "stdout",
     "output_type": "stream",
     "text": [
      "Best parameters:  {'colsample_bytree': 1, 'subsample': 1}\n",
      "Best score:  -1.96801337061\n"
     ]
    }
   ],
   "source": [
    "param_test_5 = {\n",
    " 'subsample': [.9, 1],\n",
    " 'colsample_bytree': [.9, 1]\n",
    "}\n",
    "\n",
    "best_model_5 = grid_search(best_model_4, param_test_5, X_train_reduced, y_train_reduced)"
   ]
  },
  {
   "cell_type": "code",
   "execution_count": 16,
   "metadata": {},
   "outputs": [
    {
     "name": "stdout",
     "output_type": "stream",
     "text": [
      "Fitting 5 folds for each of 5 candidates, totalling 25 fits\n"
     ]
    },
    {
     "name": "stderr",
     "output_type": "stream",
     "text": [
      "[Parallel(n_jobs=16)]: Done   7 out of  25 | elapsed:  5.8min remaining: 15.0min\n",
      "[Parallel(n_jobs=16)]: Done  20 out of  25 | elapsed:  9.0min remaining:  2.2min\n",
      "[Parallel(n_jobs=16)]: Done  25 out of  25 | elapsed:  9.3min finished\n"
     ]
    },
    {
     "name": "stdout",
     "output_type": "stream",
     "text": [
      "Best parameters:  {'reg_alpha': 1}\n",
      "Best score:  -1.96153109146\n"
     ]
    }
   ],
   "source": [
    "param_test_6 = {\n",
    " 'reg_alpha':[1e-5, 1e-2, 0.1, 1, 100]\n",
    "}\n",
    "\n",
    "best_model_6 = grid_search(best_model_5, param_test_6, X_train_reduced, y_train_reduced)"
   ]
  },
  {
   "cell_type": "code",
   "execution_count": 17,
   "metadata": {},
   "outputs": [
    {
     "name": "stdout",
     "output_type": "stream",
     "text": [
      "Fitting 5 folds for each of 3 candidates, totalling 15 fits\n"
     ]
    },
    {
     "name": "stderr",
     "output_type": "stream",
     "text": [
      "[Parallel(n_jobs=16)]: Done   8 out of  15 | elapsed:  3.7min remaining:  3.2min\n",
      "[Parallel(n_jobs=16)]: Done  15 out of  15 | elapsed:  4.2min finished\n"
     ]
    },
    {
     "name": "stdout",
     "output_type": "stream",
     "text": [
      "Best parameters:  {'reg_alpha': 1}\n",
      "Best score:  -1.96153109146\n"
     ]
    }
   ],
   "source": [
    "param_test_7 = {\n",
    " 'reg_alpha': [.5, 1, 50]\n",
    "}\n",
    "\n",
    "best_model_7 = grid_search(best_model_6, param_test_7, X_train_reduced, y_train_reduced)"
   ]
  },
  {
   "cell_type": "code",
   "execution_count": 18,
   "metadata": {},
   "outputs": [
    {
     "data": {
      "text/plain": [
       "{'base_score': 0.5,\n",
       " 'booster': 'gbtree',\n",
       " 'colsample_bylevel': 1,\n",
       " 'colsample_bytree': 1,\n",
       " 'gamma': 0.0,\n",
       " 'learning_rate': 0.1,\n",
       " 'max_delta_step': 0,\n",
       " 'max_depth': 5,\n",
       " 'min_child_weight': 3,\n",
       " 'missing': None,\n",
       " 'n_estimators': 500,\n",
       " 'nthread': 16,\n",
       " 'objective': 'count:poisson',\n",
       " 'reg_alpha': 1,\n",
       " 'reg_lambda': 1,\n",
       " 'scale_pos_weight': 1,\n",
       " 'seed': 42,\n",
       " 'silent': 1,\n",
       " 'subsample': 1}"
      ]
     },
     "execution_count": 18,
     "metadata": {},
     "output_type": "execute_result"
    }
   ],
   "source": [
    "best_model_7.get_xgb_params()"
   ]
  },
  {
   "cell_type": "code",
   "execution_count": 7,
   "metadata": {
    "collapsed": true
   },
   "outputs": [],
   "source": [
    "best_model_7 = XGBRegressor(\n",
    "    booster='gbtree',\n",
    "    learning_rate=0.1,\n",
    "    gamma=0,\n",
    "    max_depth=5,\n",
    "    min_child_weight=3,\n",
    "    subsample=1,\n",
    "    colsample_bytree=1, \n",
    "    reg_lambda=1,\n",
    "    reg_alpha=1,\n",
    "    scale_pos_weight=1,\n",
    "    objective='count:poisson',\n",
    "    nthread=16,\n",
    "    seed=42)"
   ]
  },
  {
   "cell_type": "code",
   "execution_count": 8,
   "metadata": {},
   "outputs": [
    {
     "name": "stdout",
     "output_type": "stream",
     "text": [
      "[0]\ttrain-rmse:2.2067\tvalid-rmse:2.56272\n",
      "Multiple eval metrics have been passed: 'valid-rmse' will be used for early stopping.\n",
      "\n",
      "Will train until valid-rmse hasn't improved in 100 rounds.\n",
      "[500]\ttrain-rmse:1.77827\tvalid-rmse:2.04232\n",
      "[1000]\ttrain-rmse:1.64724\tvalid-rmse:1.90067\n",
      "[1500]\ttrain-rmse:1.57461\tvalid-rmse:1.82795\n",
      "[2000]\ttrain-rmse:1.5191\tvalid-rmse:1.77089\n",
      "[2500]\ttrain-rmse:1.48911\tvalid-rmse:1.74278\n",
      "[3000]\ttrain-rmse:1.46395\tvalid-rmse:1.7199\n",
      "[3500]\ttrain-rmse:1.4419\tvalid-rmse:1.69969\n",
      "[4000]\ttrain-rmse:1.42735\tvalid-rmse:1.68752\n",
      "[4500]\ttrain-rmse:1.4122\tvalid-rmse:1.67524\n",
      "[5000]\ttrain-rmse:1.40127\tvalid-rmse:1.66761\n",
      "[5500]\ttrain-rmse:1.38369\tvalid-rmse:1.65248\n",
      "[6000]\ttrain-rmse:1.3736\tvalid-rmse:1.64488\n",
      "[6500]\ttrain-rmse:1.36708\tvalid-rmse:1.64122\n",
      "[7000]\ttrain-rmse:1.35904\tvalid-rmse:1.63496\n",
      "[7500]\ttrain-rmse:1.35177\tvalid-rmse:1.63073\n",
      "[8000]\ttrain-rmse:1.34584\tvalid-rmse:1.62808\n",
      "[8500]\ttrain-rmse:1.33864\tvalid-rmse:1.62386\n",
      "[9000]\ttrain-rmse:1.33396\tvalid-rmse:1.62109\n",
      "[9500]\ttrain-rmse:1.32873\tvalid-rmse:1.61851\n",
      "[10000]\ttrain-rmse:1.32293\tvalid-rmse:1.61552\n",
      "[10500]\ttrain-rmse:1.31769\tvalid-rmse:1.61287\n",
      "[11000]\ttrain-rmse:1.31322\tvalid-rmse:1.61054\n",
      "[11500]\ttrain-rmse:1.30913\tvalid-rmse:1.60828\n",
      "[12000]\ttrain-rmse:1.30539\tvalid-rmse:1.60665\n",
      "[12500]\ttrain-rmse:1.30172\tvalid-rmse:1.60487\n",
      "[13000]\ttrain-rmse:1.29879\tvalid-rmse:1.60389\n",
      "Stopping. Best iteration:\n",
      "[13042]\ttrain-rmse:1.29852\tvalid-rmse:1.60377\n",
      "\n"
     ]
    }
   ],
   "source": [
    "#Grid search done. Train and evaluate final model.\n",
    "\n",
    "final_model = train_XGBModel(best_model_7, X_train, y_train, X_test, y_test, .005)"
   ]
  },
  {
   "cell_type": "code",
   "execution_count": 9,
   "metadata": {
    "collapsed": true
   },
   "outputs": [],
   "source": [
    "final_model.save_model('../models/boosterDepartures.xgbm')"
   ]
  },
  {
   "cell_type": "code",
   "execution_count": 13,
   "metadata": {},
   "outputs": [
    {
     "name": "stdout",
     "output_type": "stream",
     "text": [
      "Results on test set\n",
      "Root mean squared error: 1.604\n",
      "R^2 score: 0.244\n"
     ]
    }
   ],
   "source": [
    "dtest = xgb.DMatrix(X_test)\n",
    "y_predict = final_model.predict(dtest)\n",
    "print('Results on test set')\n",
    "print('Root mean squared error: %2.3f' % math.sqrt(mean_squared_error(y_predict, y_test)))\n",
    "print('R^2 score: %2.3f' % r2_score(y_predict, y_test))"
   ]
  },
  {
   "cell_type": "code",
   "execution_count": 12,
   "metadata": {},
   "outputs": [
    {
     "data": {
      "text/plain": [
       "<matplotlib.axes._subplots.AxesSubplot at 0x247d37add68>"
      ]
     },
     "execution_count": 12,
     "metadata": {},
     "output_type": "execute_result"
    },
    {
     "data": {
      "image/png": "[encoded data removed]",
      "text/plain": [
       "<matplotlib.figure.Figure at 0x247d35745c0>"
      ]
     },
     "metadata": {},
     "output_type": "display_data"
    }
   ],
   "source": [
    "xgb.plot_importance(final_model)"
   ]
  },
  {
   "cell_type": "code",
   "execution_count": null,
   "metadata": {
    "collapsed": true
   },
   "outputs": [],
   "source": []
  }
 ],
 "metadata": {
  "kernelspec": {
   "display_name": "Python 3",
   "language": "python",
   "name": "python3"
  },
  "language_info": {
   "codemirror_mode": {
    "name": "ipython",
    "version": 3
   },
   "file_extension": ".py",
   "mimetype": "text/x-python",
   "name": "python",
   "nbconvert_exporter": "python",
   "pygments_lexer": "ipython3",
   "version": "3.6.1"
  }
 },
 "nbformat": 4,
 "nbformat_minor": 2
}
